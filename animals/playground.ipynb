{
 "cells": [
  {
   "cell_type": "code",
   "execution_count": 1,
   "metadata": {},
   "outputs": [],
   "source": [
    "from models import Field, Config, Environment"
   ]
  },
  {
   "cell_type": "code",
   "execution_count": 2,
   "metadata": {},
   "outputs": [],
   "source": [
    "config = Config(food_per_year=10, eaten_food=2, size=5)"
   ]
  },
  {
   "cell_type": "code",
   "execution_count": 3,
   "metadata": {},
   "outputs": [],
   "source": [
    "env = Environment(config=config)"
   ]
  },
  {
   "cell_type": "code",
   "execution_count": 4,
   "metadata": {},
   "outputs": [
    {
     "data": {
      "text/plain": [
       "{(0, 0): F (0, 0), food: 10.0, danger: 10.0,\n",
       " (0, 1): F (0, 1), food: 10.0, danger: 10.0,\n",
       " (0, 2): F (0, 2), food: 10.0, danger: 10.0,\n",
       " (0, 3): F (0, 3), food: 10.0, danger: 10.0,\n",
       " (0, 4): F (0, 4), food: 10.0, danger: 10.0,\n",
       " (1, 0): F (1, 0), food: 10.0, danger: 10.0,\n",
       " (1, 1): F (1, 1), food: 10.0, danger: 10.0,\n",
       " (1, 2): F (1, 2), food: 10.0, danger: 10.0,\n",
       " (1, 3): F (1, 3), food: 10.0, danger: 10.0,\n",
       " (1, 4): F (1, 4), food: 10.0, danger: 10.0,\n",
       " (2, 0): F (2, 0), food: 10.0, danger: 10.0,\n",
       " (2, 1): F (2, 1), food: 10.0, danger: 10.0,\n",
       " (2, 2): F (2, 2), food: 10.0, danger: 10.0,\n",
       " (2, 3): F (2, 3), food: 10.0, danger: 10.0,\n",
       " (2, 4): F (2, 4), food: 10.0, danger: 10.0,\n",
       " (3, 0): F (3, 0), food: 10.0, danger: 10.0,\n",
       " (3, 1): F (3, 1), food: 10.0, danger: 10.0,\n",
       " (3, 2): F (3, 2), food: 10.0, danger: 10.0,\n",
       " (3, 3): F (3, 3), food: 10.0, danger: 10.0,\n",
       " (3, 4): F (3, 4), food: 10.0, danger: 10.0,\n",
       " (4, 0): F (4, 0), food: 10.0, danger: 10.0,\n",
       " (4, 1): F (4, 1), food: 10.0, danger: 10.0,\n",
       " (4, 2): F (4, 2), food: 10.0, danger: 10.0,\n",
       " (4, 3): F (4, 3), food: 10.0, danger: 10.0,\n",
       " (4, 4): F (4, 4), food: 10.0, danger: 10.0}"
      ]
     },
     "execution_count": 4,
     "metadata": {},
     "output_type": "execute_result"
    }
   ],
   "source": [
    "env.fields "
   ]
  },
  {
   "cell_type": "code",
   "execution_count": 5,
   "metadata": {},
   "outputs": [],
   "source": [
    "env.set_food(80, 0, 3, 0, 3)"
   ]
  },
  {
   "cell_type": "code",
   "execution_count": 6,
   "metadata": {},
   "outputs": [
    {
     "data": {
      "text/plain": [
       "{(0, 0): F (0, 0), food: 80, danger: 10.0,\n",
       " (0, 1): F (0, 1), food: 80, danger: 10.0,\n",
       " (0, 2): F (0, 2), food: 80, danger: 10.0,\n",
       " (0, 3): F (0, 3), food: 10.0, danger: 10.0,\n",
       " (0, 4): F (0, 4), food: 10.0, danger: 10.0,\n",
       " (1, 0): F (1, 0), food: 80, danger: 10.0,\n",
       " (1, 1): F (1, 1), food: 80, danger: 10.0,\n",
       " (1, 2): F (1, 2), food: 80, danger: 10.0,\n",
       " (1, 3): F (1, 3), food: 10.0, danger: 10.0,\n",
       " (1, 4): F (1, 4), food: 10.0, danger: 10.0,\n",
       " (2, 0): F (2, 0), food: 80, danger: 10.0,\n",
       " (2, 1): F (2, 1), food: 80, danger: 10.0,\n",
       " (2, 2): F (2, 2), food: 80, danger: 10.0,\n",
       " (2, 3): F (2, 3), food: 10.0, danger: 10.0,\n",
       " (2, 4): F (2, 4), food: 10.0, danger: 10.0,\n",
       " (3, 0): F (3, 0), food: 10.0, danger: 10.0,\n",
       " (3, 1): F (3, 1), food: 10.0, danger: 10.0,\n",
       " (3, 2): F (3, 2), food: 10.0, danger: 10.0,\n",
       " (3, 3): F (3, 3), food: 10.0, danger: 10.0,\n",
       " (3, 4): F (3, 4), food: 10.0, danger: 10.0,\n",
       " (4, 0): F (4, 0), food: 10.0, danger: 10.0,\n",
       " (4, 1): F (4, 1), food: 10.0, danger: 10.0,\n",
       " (4, 2): F (4, 2), food: 10.0, danger: 10.0,\n",
       " (4, 3): F (4, 3), food: 10.0, danger: 10.0,\n",
       " (4, 4): F (4, 4), food: 10.0, danger: 10.0}"
      ]
     },
     "execution_count": 6,
     "metadata": {},
     "output_type": "execute_result"
    }
   ],
   "source": [
    "env.fields"
   ]
  },
  {
   "cell_type": "code",
   "execution_count": null,
   "metadata": {},
   "outputs": [],
   "source": []
  }
 ],
 "metadata": {
  "kernelspec": {
   "display_name": "rl",
   "language": "python",
   "name": "python3"
  },
  "language_info": {
   "codemirror_mode": {
    "name": "ipython",
    "version": 3
   },
   "file_extension": ".py",
   "mimetype": "text/x-python",
   "name": "python",
   "nbconvert_exporter": "python",
   "pygments_lexer": "ipython3",
   "version": "3.9.17"
  }
 },
 "nbformat": 4,
 "nbformat_minor": 2
}
