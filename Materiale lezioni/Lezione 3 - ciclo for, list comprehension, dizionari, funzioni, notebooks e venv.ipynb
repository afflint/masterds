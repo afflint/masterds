{
 "cells": [
  {
   "cell_type": "markdown",
   "metadata": {},
   "source": [
    "# Ciclo For\n",
    "\n",
    "Immaginiamo adesso di voler calcolare la media dei  punteggi ottenuti dal giocatore. Potremmo, a fine gioco, scrivere una cosa simile:"
   ]
  },
  {
   "cell_type": "code",
   "execution_count": 9,
   "metadata": {},
   "outputs": [],
   "source": [
    "# assegnamo una lista di esempio\n",
    "punteggi = [0,33,88,100]\n",
    "\n",
    "somma = 0\n",
    "\n",
    "i = 0\n",
    "while i < len(punteggi):\n",
    "    somma += punteggi[i]\n",
    "    i +=1\n",
    "\n",
    "media = somma/len(punteggi)"
   ]
  },
  {
   "cell_type": "markdown",
   "metadata": {},
   "source": [
    "Tuttavia, eseguire un ciclo su una lista (o su un tipo di dati sequenziale) è un'operazione così comune, che Python mette a disposizione un altro tipo di ciclo, detto for, per facilitare questo tipo di operazioni. La sintassi è:\n",
    "\n",
    "```python\n",
    "for <variabile> in <sequenza>:\n",
    "    <corpo>\n",
    "```\n",
    "\n",
    "ciò che fa l'interprete Python, quando incontra il ciclo for è il seguente:\n",
    "- assegna alla variabile \\<variabile\\> il primo elemento della sequenza (se disponibile, altrimenti non fa nulla e continua con il resto del codice)\n",
    "- esegue il corpo del for\n",
    "- ricomincia dall' \"alto\" assegnando a \\<variabile\\> il successivo valore nella sequenza, se disponibile, altrimenti conclude e continua con il resto del codice\n"
   ]
  },
  {
   "cell_type": "code",
   "execution_count": 10,
   "metadata": {},
   "outputs": [
    {
     "name": "stdout",
     "output_type": "stream",
     "text": [
      "4\n",
      "3\n",
      "5\n",
      "11\n"
     ]
    }
   ],
   "source": [
    "lista = [4,3,5,11]\n",
    "\n",
    "for v in lista:\n",
    "    print(v)"
   ]
  },
  {
   "cell_type": "markdown",
   "metadata": {},
   "source": [
    "Quindi, il calcolo del punteggio medio ora diventa:\n"
   ]
  },
  {
   "cell_type": "code",
   "execution_count": 22,
   "metadata": {},
   "outputs": [],
   "source": [
    "somma = 0\n",
    "\n",
    "for punteggio in punteggi:\n",
    "    somma += punteggio\n",
    "\n",
    "media = somma/len(punteggi)"
   ]
  },
  {
   "cell_type": "markdown",
   "metadata": {},
   "source": [
    "# List Comprehension\n",
    "\n",
    "Immaginiamo di avere una lista di stringhe, dove ognuna di queste rappresenta un intero (tipico quando si leggono dei file tabellari), e assumiamo quindi di volerla convertire in una lista di interi.\n",
    "\n",
    "Con un normale for, quello che faremmo è:\n"
   ]
  },
  {
   "cell_type": "code",
   "execution_count": 12,
   "metadata": {},
   "outputs": [
    {
     "name": "stdout",
     "output_type": "stream",
     "text": [
      "[10, 40, 15, -6, -66]\n"
     ]
    }
   ],
   "source": [
    "lista_stringhe = [\"10\",\"40\",\"15\",\"-6\",\"-66\"]\n",
    "\n",
    "lista_interi = []\n",
    "\n",
    "for elemento in lista_stringhe:\n",
    "    lista_interi.append(int(elemento))\n",
    "\n",
    "print(lista_interi)"
   ]
  },
  {
   "cell_type": "markdown",
   "metadata": {},
   "source": [
    "Quello che abbiamo fatto è stato elaborare una lista, per trasformarla in un'*altra lista*, in cui ogni elemento viene elaborato individualmente da un'operazione non troppo complessa. Per questo tipo di iterazione su sequenze, Python mette a disposizione un \"ciclo for\" di ancora più semplice lettura, chiamato \"list comprehension\". La sintassi base è:\n",
    "\n",
    "```python\n",
    "nuova_lista = [< espressione che elabora <variabile> > for <variabile> in <sequenza>]\n",
    "```"
   ]
  },
  {
   "cell_type": "code",
   "execution_count": 3,
   "metadata": {},
   "outputs": [
    {
     "name": "stdout",
     "output_type": "stream",
     "text": [
      "[10, 40, 15, -6, -66]\n",
      "[20, 80, 30, -12, -132]\n"
     ]
    }
   ],
   "source": [
    "lista_stringhe = [\"10\",\"40\",\"15\",\"-6\",\"-66\"]\n",
    "\n",
    "lista_interi = [int(elemento) for elemento in lista_stringhe]\n",
    "\n",
    "print(lista_interi)\n",
    "\n",
    "# Oppure, se volessimo moltiplicare per 2 ciascun intero di una lista di interi:\n",
    "\n",
    "lista_raddoppi = [elemento*2 for elemento in lista_interi]\n",
    "\n",
    "print(lista_raddoppi)"
   ]
  },
  {
   "cell_type": "markdown",
   "metadata": {},
   "source": [
    "La sintassi consente anche di aggiungere un if opzionale, per considerare solo elementi che soddisfano una certa condizione; gli altri vengono esclusi, e quindi la lista risultante può ora essere più corta dell'originale.\n",
    "\n",
    "Ad esempio, assumiamo di voler estrarre dalla lista di interi, solo quelli positivi, e inserirli in una nuova lista:"
   ]
  },
  {
   "cell_type": "code",
   "execution_count": 14,
   "metadata": {},
   "outputs": [
    {
     "name": "stdout",
     "output_type": "stream",
     "text": [
      "[10, 40, 15]\n"
     ]
    }
   ],
   "source": [
    "lista_positivi = [e for e in lista_interi if e >= 0]\n",
    "\n",
    "print(lista_positivi)"
   ]
  },
  {
   "cell_type": "markdown",
   "metadata": {},
   "source": [
    "# Range\n",
    "\n",
    "Come anticipato, qualunque \"sequenza\" può essere navigata con il ciclo for. Oltre alle stringhe (che sono sequenze di caratteri) e alle liste, esiste un altro tipo di sequenza, chiamato \"range\". Questi sono sequenze di numeri che seguono una progressione scelta da noi, e vengono costruite usando la funzione \"range\" di python. Nella sua forma basilare è:\n",
    "\n",
    "```python\n",
    "range(n)\n",
    "```\n",
    "dove n è un valore numerico, e restituisce la sequenza di interi 0,1,2,3,...,n-1"
   ]
  },
  {
   "cell_type": "code",
   "execution_count": null,
   "metadata": {},
   "outputs": [
    {
     "name": "stdout",
     "output_type": "stream",
     "text": [
      "0\n",
      "1\n",
      "2\n",
      "3\n",
      "4\n",
      "5\n",
      "6\n",
      "7\n",
      "8\n",
      "9\n"
     ]
    }
   ],
   "source": [
    "for i in range(10):\n",
    "    print(i)"
   ]
  },
  {
   "cell_type": "markdown",
   "metadata": {},
   "source": [
    "Si usa solitamente quando si vuole eseguire un corpo di codice un certo numero n di volte, evitando così di usare un ciclo while con un contatore.\n",
    "In altri casi, si può usare la forma più complessa di range per iterare in modo non-standard una sequenza:\n",
    "\n",
    "```python\n",
    "range(<inizio>,<stop>,<incremento>)\n",
    "```\n",
    "dove \\<inizio\\> è il primo intero della sequenza, \\<stop\\> è l'ultimo intero (escluso) della sequenza, e \\<incremento\\> è di quanto incrementare ogni intero, a ogni passo."
   ]
  },
  {
   "cell_type": "code",
   "execution_count": 24,
   "metadata": {},
   "outputs": [
    {
     "name": "stdout",
     "output_type": "stream",
     "text": [
      "[4, 1, 4, 8]\n",
      "[4, 1, 4, 8]\n"
     ]
    }
   ],
   "source": [
    "# immaginiamo di voler estrarre da una lista, tutti gli elementi in posizione pari\n",
    "\n",
    "lista = [4,7,1,3,4,6,8,9]\n",
    "\n",
    "lista_pari = []\n",
    "for i in range(0,len(lista),2):\n",
    "    lista_pari.append(lista[i])\n",
    "\n",
    "print(lista_pari)\n",
    "\n",
    "# un modo alternativo con list comprehension\n",
    "\n",
    "lista_pari = [lista[i] for i in range(0,len(lista),2)]\n",
    "print(lista_pari)"
   ]
  },
  {
   "cell_type": "markdown",
   "metadata": {},
   "source": [
    "# Enumerate\n",
    "\n",
    "A volte, dobbiamo estrarre elementi di una lista in posizioni particolari, che non seguono una regolarità semplice come quella sopra. In questi casi allora, l'unica soluzione apparente è quella di iterare la lista normalmente (con un for) e tenere un contatore a parte che tiene traccia della posizione.\n"
   ]
  },
  {
   "cell_type": "code",
   "execution_count": 4,
   "metadata": {},
   "outputs": [
    {
     "name": "stdout",
     "output_type": "stream",
     "text": [
      "[7, 3, 6, 9]\n"
     ]
    }
   ],
   "source": [
    "# ci interessano solo gli elementi in che non sono multiple di 2\n",
    "lista = [4,7,1,3,4,6,8,9]\n",
    "\n",
    "i = 0\n",
    "\n",
    "lista2 = []\n",
    "for e in lista:\n",
    "    if i % 2 != 0:\n",
    "        lista2.append(e)\n",
    "    i += 1\n",
    "\n",
    "print(lista2)"
   ]
  },
  {
   "cell_type": "markdown",
   "metadata": {},
   "source": [
    "In questi casi, possiamo leggermente semplificare il codice usando la funzione \"enumerate\":\n",
    "\n",
    "```python\n",
    "enumerate(<sequenza>)\n",
    "```\n",
    "restituisce una nuova sequenza di *coppie* (posizione,elemento) ottenuti dalla \\<sequenza\\>. Il codice sopra diventerebbe:"
   ]
  },
  {
   "cell_type": "code",
   "execution_count": 5,
   "metadata": {},
   "outputs": [
    {
     "name": "stdout",
     "output_type": "stream",
     "text": [
      "[7, 3, 6, 9]\n",
      "[7, 3, 6, 9]\n"
     ]
    }
   ],
   "source": [
    "lista = [4,7,1,3,4,6,8,9]\n",
    "\n",
    "lista2 = []\n",
    "for i, e in enumerate(lista):\n",
    "    if i % 2 != 0:\n",
    "        lista2.append(e)\n",
    "\n",
    "print(lista2)\n",
    "\n",
    "# meglio ancora, con list comprehension\n",
    "lista2 = [e for i, e in enumerate(lista) if i % 2 != 0]\n",
    "\n",
    "print(lista2)"
   ]
  },
  {
   "cell_type": "markdown",
   "metadata": {},
   "source": [
    "# Dizionari\n",
    "\n",
    "Tornando ora al nostro gioco, immaginiamo adesso di volerlo rendere multi-giocatore. Cioè, vogliamo tenere traccia dello storico dei punteggi non di un solo giocatore, ma di più giocatori. In cui ogni giocatore ci dà il proprio nome. Possiamo usare un dizionario.\n",
    "\n",
    "Un dizionario è un tipo di dato *mutabile* di Python, che come le liste, contiene una raccolta di valori. La differenza è che invece di organizzare i dati in sequenza, li organizza per chiave/valore, cioè, possiamo salvare un valore nel dizionario assegnandogli una \"chiave\".\n",
    "\n",
    "Sia la chiave che il valore possono essere di qualunque tipo. Per prendere il dato che ci interessa, dovremo farlo usando la sua chiave"
   ]
  },
  {
   "cell_type": "code",
   "execution_count": 18,
   "metadata": {},
   "outputs": [
    {
     "name": "stdout",
     "output_type": "stream",
     "text": [
      "{'Marco': 'Nessun valore', 'Andrea': 18}\n",
      "Chiave Andrea presente\n",
      "18 presente\n",
      "2\n",
      "Marco/Nessun valore\n",
      "Andrea/18\n",
      "Marco/Nessun valore\n",
      "Andrea/18\n"
     ]
    }
   ],
   "source": [
    "# un dizionario si dichiara usando {} e dichiarando le coppie chiave/valore, nel formato chiave: valore, che ci interessano\n",
    "\n",
    "mio_dizionario = { \"Marco\": 40, \"Andrea\": 18}\n",
    "\n",
    "# un dizionario vuoto si crea usando solo {}\n",
    "dizionario_vuoto = {}\n",
    "\n",
    "# possiamo accedere ad un valore tramite la sua chiave. Se la chiave non è presente, viene restituito un errore.\n",
    "# Non è possibile avere la stessa chiave per due valori diversi\n",
    "\n",
    "valore_di_marco = mio_dizionario[\"Marco\"]\n",
    "\n",
    "# possiamo anche sostituire il valore di una chiave. Se la chiave non esiste verrà creata e verrà assegnato il valore indicato\n",
    "mio_dizionario[\"Marco\"] = \"Nessun valore\"\n",
    "\n",
    "# print è capace di stampare dizionari\n",
    "print(mio_dizionario)\n",
    "\n",
    "# l'operatore in e not in ci permette di sapere se una certa *chiave* è presente o no nel dizionario\n",
    "\n",
    "if \"Andrea\" in mio_dizionario:\n",
    "    print(\"Chiave Andrea presente\")\n",
    "\n",
    "# per sapere invece se un *valore* è nel dizionario, dobbiamo chiederlo ai suoi \"values\"\n",
    "\n",
    "if 18 in mio_dizionario.values():\n",
    "    print(\"18 presente\")\n",
    "\n",
    "# la funzione len restituisce il numero di chiavi nel dizionario\n",
    "print(len(mio_dizionario))\n",
    "\n",
    "# è possibile iterare sulle coppie chiave/valore di un dizionario in diversi modi:\n",
    "\n",
    "# iterando sulle chiavi soltanto, e accedendo successivamente al valore corrispondente\n",
    "for chiave in mio_dizionario:\n",
    "    valore = mio_dizionario[chiave]\n",
    "    print(f\"{chiave}/{valore}\")\n",
    "\n",
    "# oppure iterando sulle coppie direttamente, accedendo agli \"items\" del dizionario\n",
    "for chiave, valore in mio_dizionario.items():\n",
    "    print(f\"{chiave}/{valore}\")"
   ]
  },
  {
   "cell_type": "markdown",
   "metadata": {},
   "source": [
    "Quindi, adesso, possiamo modificare il nostro gioco, utilizzando un dizionario, le cui chiavi sono i nomi dei giocatori, mentre i valori sono le liste dei loro punteggi.\n",
    "\n",
    "Per semplicità, omettiamo il codice completo del gioco, e mostriamo solo le parti salienti.\n"
   ]
  },
  {
   "cell_type": "code",
   "execution_count": 6,
   "metadata": {},
   "outputs": [
    {
     "name": "stdout",
     "output_type": "stream",
     "text": [
      "Benvenuto/a Marco!\n",
      "{'Marco': [3, 40, 20, 66]}\n"
     ]
    }
   ],
   "source": [
    "punteggi_giocatori = {}\n",
    "\n",
    "nome_giocatore = input(\"Inserire il proprio nome: \")\n",
    "\n",
    "if nome_giocatore in punteggi_giocatori:\n",
    "    print(f\"Bentornato/a {nome_giocatore}!\")\n",
    "else:\n",
    "    print(f\"Benvenuto/a {nome_giocatore}!\")\n",
    "    punteggi_giocatori[nome_giocatore] = []\n",
    "\n",
    "# simuliamo l'aggiunta di alcuni punteggi\n",
    "punteggi_giocatori[nome_giocatore].extend([3,40,20,66])\n",
    "\n",
    "print(punteggi_giocatori)"
   ]
  },
  {
   "cell_type": "markdown",
   "metadata": {},
   "source": [
    "# Esercizio 1\n",
    "\n",
    "Scrivere un programma che legge da input una sequenza di nomi di persona. Si assuma che la sequenza termina, quando viene inserito un nome uguale a \"FINE\"\n",
    "\n",
    "Questa sequenza indica una serie termporale, in cui ogni nome rappresenta il fatto che quella persona ha tentato di accedere con le proprie credenziali al proprio conto corrente, sbagliando però i dati di accesso (quindi se un nome appare più di una volta, vuol dire che lo stesso utente ha fatto più tentativi).\n",
    "\n",
    "Il programma dovrà identificare tutte le persone che hanno fatto 3 o più tentativi, in modo da segnalarli per bloccare temporaneamente il loro account.\n",
    "\n"
   ]
  },
  {
   "cell_type": "code",
   "execution_count": 7,
   "metadata": {},
   "outputs": [
    {
     "name": "stdout",
     "output_type": "stream",
     "text": [
      "['marco', 'alessia']\n"
     ]
    }
   ],
   "source": [
    "frequenze_login = {}\n",
    "\n",
    "# ad esempio \"marco\",\"alessia\",\"marco\",\"marco\", \"giusi\", \"laura\",\"alessia\",\"alessia\", \"FINE\"\n",
    "nome_letto = input(\"Prossimo nome: \")\n",
    "\n",
    "while nome_letto != \"FINE\":\n",
    "    if nome_letto not in frequenze_login:\n",
    "        frequenze_login[nome_letto] = 0\n",
    "    frequenze_login[nome_letto] += 1\n",
    "    \n",
    "    nome_letto = input(\"Prossimo nome: \")\n",
    "    \n",
    "\n",
    "account_da_bloccare = [nome for nome,frequenza in frequenze_login.items() if frequenza >= 3]\n",
    "\n",
    "print(account_da_bloccare)"
   ]
  },
  {
   "cell_type": "markdown",
   "metadata": {},
   "source": [
    "# Funzioni\n",
    "\n",
    "Quando il nostro codice diventa più complesso, può essere utile organizzarlo in blocchetti funzionali più semplici, che poi verranno combinati tra loro per costruire il programma completo.\n",
    "\n",
    "Per farlo, utilizziamo le funzioni.\n",
    "\n",
    "Una funzione è un'unità *indipendente* di codice Python, che può essere richiamata più volte da altre parti del vostro programma, e ha solitamente un *unico* specifico compito. Ad esempio, potremmo definire una funzione che:\n",
    "\n",
    "- dato il numero di tentativi usati, e il massimo a disposizione, calcola il punteggio del giocatore\n",
    "- data una stringa presa da un file, restisuice la stringa ripulita da errori ed altri elementi non necessari\n",
    "- data una lista di punteggi del giocatore, restituisce un dizionario contenente tutte le statistiche rilevanti (media, punteggio più alto, punteggio minimo, ecc.)\n",
    "\n",
    "Il modo più semplice per definire una funzione è tramite la sintassi:\n",
    "\n",
    "```python\n",
    "def <nome funzione>(<parametro1>,...,<parametroN>):\n",
    "    <corpo>\n",
    "```\n",
    "il nome della funzione e dei parametri possiamo sceglierlo a piacimento con le stesse regole che si applicano ai nomi di variabile. \\<parametro1\\>,...,\\<parametroN\\> sono detti *parametri formali* della funzione.\n",
    "\n",
    "Il \\<corpo\\> della funzione è codice Python classico.\n",
    "\n",
    "La funzione può essere quindi richiamata da altre parti di codice così:\n",
    "\n",
    "```python\n",
    "<nome funzione>(<valore1>,...,<valoreN>)\n",
    "```\n",
    "\n",
    "Quando una funzione viene richiamata come sopra, l'interprete Python esegue i seguenti passi:\n",
    "\n",
    "- Salva lo stato corrente di tutte le variabili, e lo mette da parte.\n",
    "- Crea un nuovo stato contenente le variabili \\<parametro1\\>,...,\\<parametroN>\n",
    "- Assegna a ciascuna variabile parametro il valore corrispondente passato alla funzione\n",
    "- Esegue il corpo della funzione: tutte le ulteriori variabili dichiarate qui verrano inserite nel nuovo stato. \n",
    "- Quando il corpo viene completamente eseguito, l'interprete \"ritorna\" al punto in cui la funzione è stata chiamata\n",
    "- Distrugge il nuovo stato, e ripristina quello vecchio."
   ]
  },
  {
   "cell_type": "code",
   "execution_count": 8,
   "metadata": {},
   "outputs": [
    {
     "name": "stdout",
     "output_type": "stream",
     "text": [
      "Benvenuto/a Marco, come stai oggi?\n",
      "Benvenuto/a Alessia, come stai oggi?\n"
     ]
    }
   ],
   "source": [
    "#scriviamo una semplice funzione, dato il nome di un utente, stampi un messagio di benvenuto.\n",
    "\n",
    "# la funzione si chiama \"benvenuto\" e necessita di una valori per essere eseguita: nome.\n",
    "# la variabile nome è detta parametro *formale* della funzione. Cioè, il nome di questa variabile\n",
    "# è visibile solo all'interno della funzione, e il suo valore cambierà in base a come verrà\n",
    "\n",
    "def benvenuto(nome):\n",
    "    print(f\"Benvenuto/a {nome}, come stai oggi?\")\n",
    "\n",
    "# dichiarare una funzione non vuol dire eseguire il suo corpo. Vuol dire solo che abbiamo reso noto\n",
    "# all'interprete Python che adesso disponiamo di questa funzione chiamata \"benvenuto\".\n",
    "# Il nostro programma principale può adesso richiamarla tutte le volte che vuole, indicando,\n",
    "# ad ogni chiamata, il valore specifico da dare al parametro nome.\n",
    "\n",
    "benvenuto(\"Marco\")\n",
    "benvenuto(\"Alessia\")"
   ]
  },
  {
   "cell_type": "markdown",
   "metadata": {},
   "source": [
    "Spesso, una funzione viene creata affinché possa fare dei calcoli che dobbiamo eseguire spesso. \n",
    "In questo caso, è necessario che la funziona disponga di un meccanisco che le consenta di restituire\n",
    "il risultato del suo lavoro al chiamante. Per questo si utilizza l'espressione\n",
    "\n",
    "```python\n",
    "return <espressione>\n",
    "```\n",
    "\n",
    "Quando l'interprete raggiunge questa istruzione, ritorna immediatamente al punto in cui è stata chiamta la funzione (quindi a prescindere dal fatto che dopo il return ci fosse altro codice). Infine, nel punto esatto in cui è stata chiamata la funzione, l'interprete, prima di distruggere lo stato della funzione, \"sostituisce\" la chiamata a funzione con \\<espressione\\>, e poi distrugge il suo stato, e ripristina quello vecchio."
   ]
  },
  {
   "cell_type": "code",
   "execution_count": 28,
   "metadata": {},
   "outputs": [
    {
     "name": "stdout",
     "output_type": "stream",
     "text": [
      "90\n"
     ]
    }
   ],
   "source": [
    "\n",
    "#Scriviamo una funzione che calcola la somma di due numeri.\n",
    "\n",
    "# la funzione si chiama \"somma\" e necessità di due valori per essere eseguita, a e b.\n",
    "# a e b vengono chiamati parametri *formali* della funzione, e sono nomi di variabili che\n",
    "# possiamo scegliere a piacere.\n",
    "\n",
    "def somma(a, b):\n",
    "    # le variabili a,b,somma sono tutte dichiarate nel nuovo stato dedicato alla funzione somma\n",
    "    # non sono quindi visibili al codice che richiamerà la funzione\n",
    "    somma = a + b\n",
    "    return somma  \n",
    "\n",
    "\n",
    "\n",
    "risultato = somma(10,80)\n",
    "print(risultato)"
   ]
  },
  {
   "cell_type": "markdown",
   "metadata": {},
   "source": [
    "# Esercizio 2\n",
    "\n",
    "Scrivere una funzione che \"pulisca\" una stringa data. Cioè, rimuova gli spazi iniziali e finali, sostituisca tutte le sequenze di più di uno spazio con uno spazio solo, e rimuova il carattere \"-\".\n"
   ]
  },
  {
   "cell_type": "code",
   "execution_count": 9,
   "metadata": {},
   "outputs": [
    {
     "name": "stdout",
     "output_type": "stream",
     "text": [
      "Ciao, questa stringa va pulita\n"
     ]
    }
   ],
   "source": [
    "# visto che si ha abbastanza contesto in una funzione per capire di che\n",
    "# tipo è il parametro formale, Visual Studio Code non ci aiuta con l'auto-completamento.\n",
    "# Possiamo allora dare un suggerimento, indicando che la funzione si aspetta di ricevere una stringa\n",
    "\n",
    "def pulisci_stringa(stringa: str):\n",
    "    stringa_pulita = stringa.strip().replace(\"-\",\"\")\n",
    "\n",
    "    posizione_spazi = stringa_pulita.find(\"  \")\n",
    "    while posizione_spazi != -1:\n",
    "        stringa_pulita = stringa_pulita.replace(\"  \",\" \")\n",
    "        posizione_spazi = stringa_pulita.find(\"  \")\n",
    "    \n",
    "    return stringa_pulita\n",
    "\n",
    "\n",
    "stringa_test = \"   Ciao,  questa  stringa   va puli--ta-  \"\n",
    "\n",
    "# notare come la variabile stringa_pulita dichiarata qui non c'entri nulla con quella\n",
    "# dichiarata dentro la funzione, visto che apparterrà solo allo stato interno della funzione\n",
    "stringa_pulita = pulisci_stringa(stringa_test)\n",
    "\n",
    "print(stringa_pulita)"
   ]
  },
  {
   "cell_type": "markdown",
   "metadata": {},
   "source": [
    "## Parametri di default\n",
    "\n",
    "A volte, per rendere l'utilizzo della funzione più semplice, è possibile assegnare ad alcuni parametri formali dei valori di default. In questo modo, se chi chiama la funzione non vuole scegliere un valore per quei parametri, non dovrà farlo esplicitamente, ma la farà la funzione in automatico.\n",
    "\n",
    "I parametri opzionali devono essere tutti posizionati *in fondo* alla lista, per non creare ambiguità."
   ]
  },
  {
   "cell_type": "code",
   "execution_count": 34,
   "metadata": {},
   "outputs": [
    {
     "name": "stdout",
     "output_type": "stream",
     "text": [
      "Risposta non valida, ritenta!\n",
      "Anche io!\n"
     ]
    }
   ],
   "source": [
    "# funzione che chiede una conferma (si/no) all'utente,\n",
    "# con un numero massimo di tentativi (3 di default).\n",
    "# La funzione restituisce True se l'utente conferma, e False altrimenti\n",
    "\n",
    "def conferma(frase: str, tentativi: int = 3):\n",
    "    \"\"\"Scrivere una stringa come prima riga di una funzione ne definisce la sua documentazione.\n",
    "    \n",
    "        La documentazione è utile per spiegare a chi la usa cosa la funzione fa. La documentazione,\n",
    "        per convenzione, è composta da una stringa iniziale che descrive brevemente la funzione,\n",
    "        poi una riga vuota, e poi un numero di righe a piacere per i dettagli.\n",
    "        La stringa di documentazione viene letta da VSCode, e vi viene mostrata quando richiamate\n",
    "        la funzione nel codice, come suggerimento.\"\"\"\n",
    "    \n",
    "    while tentativi > 0:\n",
    "        risposta = input(frase)\n",
    "        if risposta.lower() == \"si\":\n",
    "            return True\n",
    "        elif risposta.lower() == \"no\":\n",
    "            return False\n",
    "        \n",
    "        tentativi -= 1\n",
    "        print(\"Risposta non valida, ritenta!\")\n",
    "    return False\n",
    "\n",
    "if conferma(\"Hai fame?\"):\n",
    "    print(\"Anche io!\")\n",
    "else:\n",
    "    print(\"Ottimo!\")"
   ]
  },
  {
   "cell_type": "markdown",
   "metadata": {},
   "source": [
    "## Parametri keyword\n",
    "\n",
    "Le funzioni con parametri possono anche essere chiamate specificando in modo esplicito, per ogni attributo, quale valore assegnare, aumentando la leggibilità.\n"
   ]
  },
  {
   "cell_type": "code",
   "execution_count": 2,
   "metadata": {},
   "outputs": [
    {
     "name": "stdout",
     "output_type": "stream",
     "text": [
      "{'Nome': 'Marco', 'Cognome': 'Calautti', 'Età': 20, 'Codice di avviamento postale': 23600}\n"
     ]
    }
   ],
   "source": [
    "def crea_dizionario_persona(nome: str, cognome: str, eta: int, cap: int):\n",
    "    dizionario = {\"Nome\": nome, \"Cognome\": cognome, \"Età\": eta, \"Codice di avviamento postale\": cap}\n",
    "    return dizionario\n",
    "\n",
    "# si possono usare un tot di parametri in ordine, come visto sopra, e da un certo punto in poi,\n",
    "# i rimanenti possono essere utilizzati usando la notazione parametro=valore, in un qualunque ordine.\n",
    "risultato = crea_dizionario_persona(\"Marco\",\"Calautti\", cap=20100, eta=20)\n",
    "print(risultato)\n",
    "\n",
    "#ovviamente, non è possibile usare il nome di un parametro che non è un parametro formale della funzione.\n",
    "# il codice qui sotto darebbe errore, perché citta non è definito come parametro formale della funzione\n",
    "#risultato = crea_dizionario_persona(\"Marco\",\"Calautti\",citta=\"Milano\")"
   ]
  },
  {
   "cell_type": "markdown",
   "metadata": {},
   "source": [
    "A volte, il numero di parametri che vogliamo dare ad una funzione è così grande che renderebbe la sua definizione illegibile. In questo caso, possiamo usare la seguente sintassi:"
   ]
  },
  {
   "cell_type": "code",
   "execution_count": 4,
   "metadata": {},
   "outputs": [
    {
     "name": "stdout",
     "output_type": "stream",
     "text": [
      "{'Nome': 'Marco', 'Cognome': 'Calautti', 'Età': 20, 'citta': 'Milano', 'cap': 20100, 'via': 'Della Repubblica'}\n"
     ]
    }
   ],
   "source": [
    "# \"altri_dettagli\" è un dizionario che mappa stringhe a valori di qualunque tipo\n",
    "def crea_dizionario_persona(nome: str, cognome: str, eta: int, **altri_dettagli):\n",
    "    dizionario = {\"Nome\": nome, \"Cognome\": cognome, \"Età\": eta}\n",
    "\n",
    "    # in alternativa, possiamo usare \n",
    "    # dizionario.update(altri_dettagli) \n",
    "    # per aggiungere tutte le coppie chiave/valore di altri_dettagli al dizionario\n",
    "    for k,v in altri_dettagli.items():\n",
    "        dizionario[k]=v\n",
    "    \n",
    "    return dizionario\n",
    "\n",
    "# tutti i parametri aggiuntivi vanno necessariamente inseriti con il formato parametro=valore\n",
    "risultato = crea_dizionario_persona(\"Marco\",\"Calautti\",eta=20,citta=\"Milano\",cap=20100,via=\"Della Repubblica\")\n",
    "print(risultato)\n",
    " "
   ]
  },
  {
   "cell_type": "markdown",
   "metadata": {},
   "source": [
    "# Altri concetti utili\n",
    "\n",
    "In quest'ultima sezione vengono raccolte alcune funzioni di comodo usate spesso in Python, e altri concetti utili per il corso.\n",
    "\n",
    "## Funzioni anonime (lambda)\n",
    "\n",
    "Ci sono casi in cui funzioni di libreria vi permettano di cambiare il loro comportamento, passando loro delle funzioni come input.\n",
    "\n",
    "Un esempio tipico è la funzione sort delle liste. Immaginiamo di avere una lista di persone, rappresentate da un dizionario.\n",
    "Come facciamo a ordinare le persone della lista dal più giovane al più anziano?"
   ]
  },
  {
   "cell_type": "code",
   "execution_count": 1,
   "metadata": {},
   "outputs": [
    {
     "name": "stdout",
     "output_type": "stream",
     "text": [
      "[{'Nome': 'Alessia', 'Età': 15}, {'Nome': 'Marco', 'Età': 20}, {'Nome': 'Laura', 'Età': 30}]\n"
     ]
    }
   ],
   "source": [
    "persone = [ {\"Nome\":\"Marco\", \"Età\": 20}, {\"Nome\": \"Alessia\", \"Età\": 15}, {\"Nome\": \"Laura\", \"Età\": 30} ]  \n",
    "\n",
    "# eseguire .sort() sulla lista darà errore, perché non è ben definito un criterio di\n",
    "# precedenza fra dizionari\n",
    "# persone.sort()\n",
    "\n",
    "# La funzione sort ha un parametro \"key\" (che può essere utilizzato solo in forma di keyword)\n",
    "# a cui possiamo passare una funzione che ha il compito, dato un elemento della lista da ordinare,\n",
    "# di restituire un valore rispetto al quale ordinare la lista.\n",
    "\n",
    "def estrai_eta(persona: dict):\n",
    "    return persona[\"Età\"]\n",
    "\n",
    "# la funzione sort, quando dovrà confrontare due elementi della lista, per capire\n",
    "# come ordinarli, utilizzerà prima la funzione data per estrarre il valore rispetto a quale\n",
    "# fare il confronto. Quindi, quando confronterà il dizionario di Marco con quello di Alessia,\n",
    "# chiederà prima al funzione data il valore da utilizzare (l'età) e poi confronterà quei valori\n",
    "# per determinare chi dei due viene prima in elenco.\n",
    "persone.sort(key=estrai_eta)\n",
    "\n",
    "print(persone)"
   ]
  },
  {
   "cell_type": "markdown",
   "metadata": {},
   "source": [
    "Visto che la funzione \"estrai_eta\" è in sostanza \"usa e getta\", cioè, viene utilizzata localmente all'ordinamento della lista. Possiamo utilizzare un modo più compatto di creare una funzione, che possiamo passare alla funzione sort. La sintassi è:\n",
    "\n",
    "```python\n",
    "lambda <parametro1>,...,<parametroN>: <espressione>\n",
    "```\n",
    "\n",
    "L'istruzione sopra crea una funzione (il cui nome non è noto, quindi anonima), i cui parametri formali sono \\<parametro1\\>,...,\\<parametroN\\>, e che restituisce il valore di \\<espressione\\> (quindi non si usa il return, ma basta scrivere il valore)."
   ]
  },
  {
   "cell_type": "code",
   "execution_count": 2,
   "metadata": {},
   "outputs": [
    {
     "name": "stdout",
     "output_type": "stream",
     "text": [
      "[{'Nome': 'Alessia', 'Età': 15}, {'Nome': 'Marco', 'Età': 20}, {'Nome': 'Laura', 'Età': 30}]\n"
     ]
    }
   ],
   "source": [
    "# utilizziamo una funzione anonima per definire il criterio di ordinamento\n",
    "\n",
    "persone.sort(key=lambda persona: persona[\"Età\"])\n",
    "\n",
    "print(persone)"
   ]
  },
  {
   "cell_type": "markdown",
   "metadata": {},
   "source": [
    "## Funzioni utili su sequenze\n",
    "\n",
    "Python mette a disposizione alcune funzioni di comodo per effettuare operazioni comuni su sequenze.\n"
   ]
  },
  {
   "cell_type": "code",
   "execution_count": 10,
   "metadata": {},
   "outputs": [
    {
     "name": "stdout",
     "output_type": "stream",
     "text": [
      "55 3 90\n"
     ]
    }
   ],
   "source": [
    "\n",
    "lista = [3,10,55,22]\n",
    "\n",
    "massimo = max(lista) # trova il valore più grande della lista\n",
    "minimo = min(lista) # trova il valore più piccolo della lista\n",
    "somma = sum(lista) # somma tutti i valori della lista\n",
    "\n",
    "print(massimo,minimo,somma)"
   ]
  },
  {
   "cell_type": "markdown",
   "metadata": {},
   "source": [
    "## Interrompere prematuramente un ciclo\n",
    "\n",
    "In un ciclo (while e for), è possibile interrompere prematuramente la sua esecuzione usando la parola chiave break."
   ]
  },
  {
   "cell_type": "code",
   "execution_count": 11,
   "metadata": {},
   "outputs": [
    {
     "name": "stdout",
     "output_type": "stream",
     "text": [
      "3\n"
     ]
    }
   ],
   "source": [
    "\n",
    "for i in range(10):\n",
    "    if i == 3:\n",
    "        break # quando questa istruzione viene eseguita, l'interprete salta immediatamente fuori dal ciclo\n",
    "\n",
    "# la stampa mostrerà 3\n",
    "print(i)"
   ]
  },
  {
   "cell_type": "markdown",
   "metadata": {},
   "source": [
    "## Altri operatori utili su stringhe (split e join)\n",
    "\n",
    "Di seguito vengono elecanti altri operatori utili su stringhe."
   ]
  },
  {
   "cell_type": "code",
   "execution_count": 12,
   "metadata": {},
   "outputs": [
    {
     "name": "stdout",
     "output_type": "stream",
     "text": [
      "['split', '\"spezza\"', 'la', 'stringa', 'in', 'più', 'stringhe,', 'in', 'base', 'al', 'separatore', 'indicato']\n",
      "split,\"spezza\",la,stringa,in,più,stringhe,,in,base,al,separatore,indicato\n"
     ]
    }
   ],
   "source": [
    "lista_elementi = 'split \"spezza\" la stringa in più stringhe, in base al separatore indicato'.split(' ')\n",
    "# in questo caso abbiamo usato lo spazio come separatore, ma possiamo usare una stringa arbitraria\n",
    "\n",
    "print(lista_elementi)\n",
    "\n",
    "# quando join viene eseguito su una stringa, e riceve in input una lista, costruisce una stringa\n",
    "# ottenuta facendo la concatenazione degli elementi della lista, usando la stringa come separatore\n",
    "stringa_composta = ','.join(lista_elementi)\n",
    "# in questo caso stiamo concatenando gli elementi della lista intervallandoli da una virgola\n",
    "\n",
    "print(stringa_composta)"
   ]
  },
  {
   "cell_type": "markdown",
   "metadata": {},
   "source": [
    "## Jupyter Notebooks e venv\n",
    "\n",
    "I Jupyter Notebook sono un modo alternativo di gestire il proprio codice Python. Permettono di mescolare codice Python con documentazione scritta in Markdown. Per utilizzare i Jupyter Notebook, è prima necessario chiedere a Visual Studio Code di creare un \"Virtual Environment (venv)\".\n",
    "\n",
    "Un venv non è altro che una sottocartella all'interno della cartella del vostro progetto che conterrà una copia del vostro interprete Python, insieme a tutte le librerie che voi o il Notebook vorrà installare.\n",
    "\n",
    "### Creare un venv\n",
    "\n",
    "Per creare un venv, aprire prima la cartella del proprio progetto con Visual Studio Code. Una volta fatto, basta:\n",
    "\n",
    "- Usare la combinazione di Tasti Ctrl Sinistro+Shift Sinistro+P, e apparira la barra dei comandi di VSCode\n",
    "- Cercare \"Environment\" e cliccare su \"Python: Create Environment\"\n",
    "- Esistono diversi strumenti per creare venv, quello ufficiale Python è Venv. Selezioniamolo.\n",
    "- Scegliere l'interprete Python che si vuole assegnare al venv, e attendere che il venv venga creato.\n",
    "\n",
    "Una volta creato il venv, tutte le volte che aprirete la cartella del vostro progetto in VSCode, verrà selezionato in automatico.\n",
    "\n",
    "### Creare un Notebook\n",
    "\n",
    "Ora che avete configurato un venv, è possibile creare un Notebook. Per farlo basta usare il menu File -> New file... e selezionare \"Jupyter Notebook\".\n",
    "\n",
    "Una volta creato, quando vorrete eseguire per la prima volta il Notebook, vi verrà chiesto se volete usare un venv. Confermate, selezionate il venv appena creato, e fate installare i pacchetti richiesti.\n"
   ]
  }
 ],
 "metadata": {
  "kernelspec": {
   "display_name": ".venv",
   "language": "python",
   "name": "python3"
  },
  "language_info": {
   "codemirror_mode": {
    "name": "ipython",
    "version": 3
   },
   "file_extension": ".py",
   "mimetype": "text/x-python",
   "name": "python",
   "nbconvert_exporter": "python",
   "pygments_lexer": "ipython3",
   "version": "3.11.8"
  }
 },
 "nbformat": 4,
 "nbformat_minor": 2
}
