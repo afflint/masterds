{
 "cells": [
  {
   "cell_type": "markdown",
   "metadata": {},
   "source": [
    "# Introduzione alla programmazione a oggetti"
   ]
  },
  {
   "cell_type": "markdown",
   "metadata": {},
   "source": [
    "## Oggetti e classi "
   ]
  },
  {
   "cell_type": "code",
   "execution_count": 4,
   "metadata": {},
   "outputs": [
    {
     "name": "stdout",
     "output_type": "stream",
     "text": [
      "[2, 3, 4, 5, 9]\n",
      "[9, 10, 9]\n"
     ]
    }
   ],
   "source": [
    "a = [2, 3, 4, 5]\n",
    "c = [9, 10]\n",
    "a.append(9)\n",
    "c.append(9)\n",
    "print(a)\n",
    "print(c)"
   ]
  },
  {
   "cell_type": "code",
   "execution_count": 3,
   "metadata": {},
   "outputs": [
    {
     "data": {
      "text/plain": [
       "str"
      ]
     },
     "execution_count": 3,
     "metadata": {},
     "output_type": "execute_result"
    }
   ],
   "source": [
    "b = \"example\"\n",
    "type(b)"
   ]
  },
  {
   "cell_type": "code",
   "execution_count": 96,
   "metadata": {},
   "outputs": [],
   "source": [
    "class Person:\n",
    "    \n",
    "    def __init__(self, name: str):\n",
    "        self.name = name\n",
    "\n",
    "    def __str__(self):\n",
    "        return self.name\n",
    "    \n",
    "    def __repr__(self):\n",
    "        return \"Repr {}\".format(self.__str__())\n",
    "    \n",
    "    def __getitem__(self, i: int):\n",
    "        try:\n",
    "            return self.name[i]\n",
    "        except IndexError:\n",
    "            return self.name\n",
    "        except TypeError:\n",
    "            raise Exception('questo è un type error')\n",
    "    \n",
    "    def say_name(self):\n",
    "        print(\"Ciao, sono {}\".format(self.name))\n",
    "\n",
    "        \n",
    "class Student:\n",
    "    \n",
    "    def __init__(self, code: int):\n",
    "        self.code = code\n",
    "        self.grades = {}\n",
    "        \n",
    "    def add_exam(self, exam: str, grade: float):\n",
    "        self.grades[exam] = grade\n",
    "    \n",
    "    def mean(self):\n",
    "        try:\n",
    "            return sum(self.grades.values()) / len(self.grades)\n",
    "        except ZeroDivisionError:\n",
    "            return None\n",
    "    "
   ]
  },
  {
   "cell_type": "code",
   "execution_count": 99,
   "metadata": {},
   "outputs": [
    {
     "name": "stdout",
     "output_type": "stream",
     "text": [
      "27.666666666666668\n"
     ]
    }
   ],
   "source": [
    "s = Student(code=8)\n",
    "s.add_exam(exam='programmazione', grade=29)\n",
    "s.add_exam(exam='inglese', grade=28)\n",
    "s.add_exam(exam='matematica', grade=26)\n",
    "print(s.mean())"
   ]
  },
  {
   "cell_type": "code",
   "execution_count": 100,
   "metadata": {},
   "outputs": [
    {
     "name": "stdout",
     "output_type": "stream",
     "text": [
      "{'programmazione': 29, 'inglese': 28, 'matematica': 26}\n"
     ]
    }
   ],
   "source": [
    "print(s.grades)"
   ]
  },
  {
   "cell_type": "markdown",
   "metadata": {},
   "source": [
    "## Ereditarietà"
   ]
  },
  {
   "cell_type": "code",
   "execution_count": 101,
   "metadata": {},
   "outputs": [],
   "source": [
    "class Person:\n",
    "    \n",
    "    def __init__(self, name: str):\n",
    "        self.name = name\n",
    "\n",
    "    def __str__(self):\n",
    "        return self.name\n",
    "    \n",
    "    def __repr__(self):\n",
    "        return \"Repr {}\".format(self.__str__())\n",
    "    \n",
    "    def __getitem__(self, i: int):\n",
    "        try:\n",
    "            return self.name[i]\n",
    "        except IndexError:\n",
    "            return self.name\n",
    "        except TypeError:\n",
    "            raise Exception('questo è un type error')\n",
    "    \n",
    "    def say_name(self):\n",
    "        print(\"Ciao, sono {}\".format(self.name))\n",
    "\n",
    "        \n",
    "class Student(Person):\n",
    "    \n",
    "    def __init__(self, code: int, name: str):\n",
    "        super().__init__(name=name)\n",
    "        self.code = code\n",
    "        self.grades = {}\n",
    "        \n",
    "    def add_exam(self, exam: str, grade: float):\n",
    "        self.grades[exam] = grade\n",
    "    \n",
    "    def mean(self):\n",
    "        try:\n",
    "            return sum(self.grades.values()) / len(self.grades)\n",
    "        except ZeroDivisionError:\n",
    "            return None"
   ]
  },
  {
   "cell_type": "code",
   "execution_count": 105,
   "metadata": {},
   "outputs": [
    {
     "name": "stdout",
     "output_type": "stream",
     "text": [
      "Anna None\n",
      "Ciao, sono Anna\n",
      "Ciao, sono Mario\n"
     ]
    },
    {
     "ename": "AttributeError",
     "evalue": "'Person' object has no attribute 'mean'",
     "output_type": "error",
     "traceback": [
      "\u001b[0;31m---------------------------------------------------------------------------\u001b[0m",
      "\u001b[0;31mAttributeError\u001b[0m                            Traceback (most recent call last)",
      "Cell \u001b[0;32mIn[105], line 7\u001b[0m\n\u001b[1;32m      5\u001b[0m p \u001b[38;5;241m=\u001b[39m Person(name\u001b[38;5;241m=\u001b[39m\u001b[38;5;124m'\u001b[39m\u001b[38;5;124mMario\u001b[39m\u001b[38;5;124m'\u001b[39m)\n\u001b[1;32m      6\u001b[0m p\u001b[38;5;241m.\u001b[39msay_name()\n\u001b[0;32m----> 7\u001b[0m \u001b[43mp\u001b[49m\u001b[38;5;241;43m.\u001b[39;49m\u001b[43mmean\u001b[49m()\n",
      "\u001b[0;31mAttributeError\u001b[0m: 'Person' object has no attribute 'mean'"
     ]
    }
   ],
   "source": [
    "s = Student(code=8, name='Anna')\n",
    "print(s.name, s.mean())\n",
    "s.say_name()\n",
    "\n",
    "p = Person(name='Mario')\n",
    "p.say_name()\n",
    "p.mean()"
   ]
  },
  {
   "cell_type": "code",
   "execution_count": null,
   "metadata": {},
   "outputs": [],
   "source": []
  },
  {
   "cell_type": "markdown",
   "metadata": {},
   "source": [
    "## Progettazione"
   ]
  },
  {
   "cell_type": "markdown",
   "metadata": {},
   "source": [
    "## Esempio: vita artificiale\n",
    "Si vuole realizzare un ambiente naturale simulato in cui vivono creature simulate. \n",
    "- Tale ambiente (**Environment**) è rappresentato da una griglia di dimensione $k \\times k$\n",
    "- Ogni spazio della griglia (**Field**) è caratterizzato da: \n",
    "  - posizione, determinata dalle coordinate $(x, y)$\n",
    "  - quantità di cibo $f \\in [0, 100]$\n",
    "  - livello di pericolo $d \\in [0, 100]$\n",
    "- Ogni creatura (**Animal**) vive nell'ambiente e è caratterizzata da\n",
    "  - posizione, determinata dalle coordinate $(x, y)$\n",
    "  - stato, rappresentato da $s = (e, a, f, d)$ in cui:\n",
    "    - $e \\in [0, 100]$ è l'energia di cui è dotato l'animale \n",
    "    - $a \\in [0, 100]$ è l'età dell'animale \n",
    "    - $f$ è la quantità di cibo disponibile in $(x, y)$\n",
    "    - $d$ è il livello di pericolo in $(x, y)$\n",
    "  - codice genetico $dna$. determina il modo in cui lo stato è utilizzato per determinare le azioni.\n",
    "### Meccanismo di gioco\n",
    "Il gioco è articolato in turni. Ogni turno è caratterizzato dalle seguenti fasi:\n",
    "1. Gli animali **agiscono** nell'ambiente\n",
    "   1. Ogni animale compie una di queste azioni:\n",
    "      1. Muoversi in una direzione verso *N*orth, *S*outh, *W*est o *E*ast\n",
    "      2. Mangiare\n",
    "      3. Riprodursi \n",
    "2. Gli animali sopravvivono o muoiono\n",
    "   1. Ogni animale può morire in due modi\n",
    "      1. A causa di un pericolo esterno, con probabilità proporzionale a $d$\n",
    "      2. Di vecchiaia, con probabilità proporzionale a $a$\n",
    "3. I *Field* producono cibo\n",
    "   1. Ogni *Field* produce $j$ unità di cibo, con probabilità proporzionale a $f$\n",
    "### Azioni degli animali\n",
    "Le azioni degli animali sono scelte un funzione dello stato $s$ come segue:\n",
    "- L'azione di movimento ha successo con probabilità proporzionale all'energia $e$\n",
    "- L'azione di mangiare fa consumare $m$ unità di cibo e aumentare di $m$ l'energia dell'animale, fino a un massimo di $100$\n",
    "- L'azione di riprodursi ha successo con probabilità inversamente proporzionale all'energia $e$ e produce $h$ nuovi animali con lo stesso codice genetico del genitore ma con delle variazioni casuali (mutazioni)"
   ]
  },
  {
   "cell_type": "markdown",
   "metadata": {},
   "source": []
  }
 ],
 "metadata": {
  "kernelspec": {
   "display_name": "rl",
   "language": "python",
   "name": "python3"
  },
  "language_info": {
   "codemirror_mode": {
    "name": "ipython",
    "version": 3
   },
   "file_extension": ".py",
   "mimetype": "text/x-python",
   "name": "python",
   "nbconvert_exporter": "python",
   "pygments_lexer": "ipython3",
   "version": "3.9.17"
  }
 },
 "nbformat": 4,
 "nbformat_minor": 2
}
