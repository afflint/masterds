{
 "cells": [
  {
   "cell_type": "markdown",
   "metadata": {},
   "source": [
    "# Controllo del flusso, istruzioni if/else\n",
    "\n",
    "Un programma che non può prendere decisioni, basandosi sui propri dati rimane molto limitato. A questo scopo si utilizza l'istruzione if. La sintassi è la seguente\n",
    "\n",
    "```python\n",
    "if <espressione booleana>:\n",
    "    <corpo>\n",
    "```\n",
    "\n",
    "<espressione booleana> è una qualunque espressione, che se valutata, retituisce uno di due possibili valori: vero o falso. Quindi, una qualunque espressione venga valutata ad un valore bool True o False.\n",
    "\n",
    "Quando l'espressione vale True, allora le istruzione presenti in <corpo> vengono eseguite, altrimenti vengono saltate, e l'esecuzione continua dopo l'if.\n",
    "\n",
    "Per distinguere le istruzione del corpo da quelle fuori, si utilizza l'*indentazione*, cioè, le istruzione del corpo vengono precedute da un carattere di tabulazione, inseribile con il tasto tab della tastiera (quello con le due frecce, sulla sinistra). Questo modo di organizzare le istruzioni del corpo dell'if è molto semplice, e permette, con una veloce occhiata, di capire facilmente cosa fa parte del corpo, e cosa no.\n",
    "\n"
   ]
  },
  {
   "cell_type": "code",
   "execution_count": 2,
   "metadata": {},
   "outputs": [
    {
     "name": "stdout",
     "output_type": "stream",
     "text": [
      "Il numero inserito è maggiore di 10\n"
     ]
    }
   ],
   "source": [
    "numero = int(input(\"Inserire un numero intero:\")) # ad esempio, 15\n",
    "\n",
    "if numero > 10:\n",
    "    print(\"Il numero inserito è maggiore di 10\")"
   ]
  },
  {
   "cell_type": "markdown",
   "metadata": {},
   "source": [
    "Una espressione booleana può essere costruita confrontando altri valori e variabili usando gli operatori di confronto:\n",
    "- &gt; (operatore maggiore di)\n",
    "- &lt; (operatore minore di)\n",
    "- &gt;= (operatore maggiore o uguale di)\n",
    "- &lt;= (operatore minore o uguale di)\n",
    "- == (operatore uguale a, da non confondere con = che è l'assegnamento)\n",
    "- != (operatore diverso da)\n",
    "\n",
    "In più, valori booleani possono essere a loro volta composti con gli operatori booleani:\n",
    "- <espressione 1> and <espressione 2> (vale True se entrambe le espressioni valgono True, altrimenti False)\n",
    "- <espressione 1> or <espressione 2> (vale True se almeno una delle espresioni vale True, altrimenti False)\n",
    "- not <espressione> (vale l'opposto del valore dell'espressione)\n",
    "\n",
    "L'istruzione if può avere, opzionalmente un else:"
   ]
  },
  {
   "cell_type": "code",
   "execution_count": 3,
   "metadata": {},
   "outputs": [
    {
     "name": "stdout",
     "output_type": "stream",
     "text": [
      "Il numero non è maggiore di 10\n",
      "fine\n"
     ]
    }
   ],
   "source": [
    "numero = int(input(\"Inserire un numero intero:\")) # ad esempio, 7\n",
    "\n",
    "if numero > 10:\n",
    "    print(\"Il numero inserito è maggiore di 10\")\n",
    "else:\n",
    "    print(\"Il numero non è maggiore di 10\")\n",
    "\n",
    "print(\"fine\")"
   ]
  },
  {
   "cell_type": "markdown",
   "metadata": {},
   "source": [
    "In questo caso, se la condizione è soddisfatta, allora viene eseguito il corpo dell'if. Se invece è falsa, viene eseguito il corpo dell'else.\n",
    "*In ogni caso* il codice che segue l'if/else verrà ripreso normalmente.\n",
    "\n",
    "Infine, se vogliamo effettuare più di un if/else, possiamo usare la seguente sintassi:"
   ]
  },
  {
   "cell_type": "code",
   "execution_count": 4,
   "metadata": {},
   "outputs": [
    {
     "name": "stdout",
     "output_type": "stream",
     "text": [
      "il numero è compreso tra 10 (incluso) e 20 escluso\n"
     ]
    }
   ],
   "source": [
    "numero = int(input(\"Inserire un numero intero:\")) # ad esempio, 16\n",
    "\n",
    "if numero < 5:\n",
    "    print(\"il numero è minore di 5\")\n",
    "elif numero < 10: # in questo caso, siamo sicuri il numero sia maggiore o uguale a 5, ma di quanto?\n",
    "    print(\"il numero è compreso tra 5 (incluso) e 10 (escluso)\")\n",
    "elif numero < 20:\n",
    "    print(\"il numero è compreso tra 10 (incluso) e 20 (escluso)\")\n",
    "else:\n",
    "    print(\"il numero è maggiore o uguale a 20\")"
   ]
  },
  {
   "cell_type": "markdown",
   "metadata": {},
   "source": [
    "# Esercizio 1\n",
    "Leggere da input un intero, e verificare che sia pari o dispari"
   ]
  },
  {
   "cell_type": "code",
   "execution_count": 1,
   "metadata": {},
   "outputs": [
    {
     "name": "stdout",
     "output_type": "stream",
     "text": [
      "Il numero è pari\n",
      "fine\n"
     ]
    }
   ],
   "source": [
    "# svolgimento\n",
    "numero = int(input(\"Inserire intero: \")) # ad esempio 4\n",
    "\n",
    "if numero % 2 == 0:\n",
    "    print(\"Il numero è pari\")\n",
    "else:\n",
    "    print(\"il numero è dispari\")\n",
    "\n",
    "print(\"fine\")"
   ]
  },
  {
   "cell_type": "markdown",
   "metadata": {},
   "source": [
    "# Esercizio 2\n",
    "Leggere da input una stringa tra \"C\" ed \"F\", che indica se si vuole convertire la temperatura data in gradi Celsius in Fahrenheit, oppure il viceversa. Una volta fatta la scelta, leggere un float da input e convertirlo di conseguenza.\n",
    "\n",
    "La conversione funziona così:\n",
    "- da Celsius a Fahrenheit: (celsius * 9/5) + 32\n",
    "- Da Fahrenheit a Celsius: (fahrenheit - 32) * 5/9"
   ]
  },
  {
   "cell_type": "code",
   "execution_count": 3,
   "metadata": {},
   "outputs": [
    {
     "name": "stdout",
     "output_type": "stream",
     "text": [
      "Temperatura in F: 104.0\n"
     ]
    }
   ],
   "source": [
    "# svolgimento\n",
    "tipo = input(\"Che tipo di temperatura inserire? (C,F) \") # esempio C\n",
    "\n",
    "if tipo == \"C\":\n",
    "    temp = float(input(\"Inserire temperatura in C: \")) # 40\n",
    "    convertita = (temp*9/5) + 32\n",
    "    print(\"Temperatura in F:\",convertita)\n",
    "elif tipo == \"F\":\n",
    "    temp = float(input(\"Inserire temperatura in F: \"))\n",
    "    convertita = (temp -32)*5/9\n",
    "    print(\"Temperatura in C:\",convertita)\n",
    "else:\n",
    "    print(\"Tipo non valido\")"
   ]
  },
  {
   "cell_type": "markdown",
   "metadata": {},
   "source": [
    "# Esercizio 3\n",
    "Leggere da input un intero, rappresentate un anno, e verificare che questo sia bisestile.\n",
    "Un anno è bisestile se è multiplo di 400, oppure è multiplo di 4 ma non di 100.\n"
   ]
  },
  {
   "cell_type": "code",
   "execution_count": 4,
   "metadata": {},
   "outputs": [
    {
     "name": "stdout",
     "output_type": "stream",
     "text": [
      "Anno bisestile\n"
     ]
    }
   ],
   "source": [
    "# svolgimento\n",
    "anno = int(input(\"Inserire anno: \")) #esempio 2180\n",
    "\n",
    "if anno % 400 == 0 or (anno % 4 == 0 and anno % 100 != 0):\n",
    "    print(\"Anno bisestile\")\n",
    "else:\n",
    "    print(\"Anno normale\")"
   ]
  },
  {
   "cell_type": "markdown",
   "metadata": {},
   "source": [
    "# Ciclo While\n",
    "\n",
    "Un altro concetto essenziale in Python è quello dei cicli. Questi sono istruzioni che permettono al programma di eseguire una serie di istruzioni un certo numero di volte, fino a quando una certa condizione non viene soddisfatta. \n",
    "\n",
    "Python ha due tipi di cicli: il while e il for. Concentriamoci sul primo.\n",
    "\n",
    "Immaginiamo di voler chiedere all'utente di darci in input una quantità arbitraria di interi da tastiera. Questo perché, ad esempio vogliamo realizzare un programma che calcola la media di una sequenza di interi. \n",
    "Visto che non sappiamo quanti numeri un nostro utente vorrà inserire, non sappiamo quante volte chiamare la funzione \"input\" per richiedere i numeri. Possiamo usare un ciclo while in questo caso.\n",
    "\n",
    "```python\n",
    "while <espressione booleana>:\n",
    "    <corpo>\n",
    "```"
   ]
  },
  {
   "cell_type": "markdown",
   "metadata": {},
   "source": [
    "La struttura è identica all'if, ma il significato è diverso. L'interprete Python, quando incontra un'istruzione while esegue i seguenti passi:\n",
    "\n",
    "- \\<espressione booleana\\> è vera?\n",
    "- Se sì, allora esegui <corpo>, e torna al punto sopra\n",
    "- Se no, non eseguire <corpo> e continua con la normale esecuzione dopo il while\n",
    "\n",
    "Proviamo a mettere in pratica il concetto con l'esercizio discusso sopra.\n"
   ]
  },
  {
   "cell_type": "markdown",
   "metadata": {},
   "source": [
    "### Esercizio 4\n",
    "Scrivere un programma che sia in grado di leggere un numero arbitrario di interi da tastiera e che restituisca la media aritmetica.\n"
   ]
  },
  {
   "cell_type": "code",
   "execution_count": 5,
   "metadata": {},
   "outputs": [
    {
     "name": "stdout",
     "output_type": "stream",
     "text": [
      "La media è 6.666666666666667\n"
     ]
    }
   ],
   "source": [
    "# svolgimento\n",
    "\n",
    "n = int(input(\"Quanti numeri si vogliono inserire? \")) #esempio 3\n",
    "\n",
    "i = 0\n",
    "somma = 0\n",
    "while i < n:\n",
    "    valore = int(input(\"Inserire il numero: \")) # esempio 4,10,6\n",
    "    somma += valore\n",
    "    i += 1\n",
    "\n",
    "media = somma/n\n",
    "print(\"La media è\",media)"
   ]
  },
  {
   "cell_type": "markdown",
   "metadata": {},
   "source": [
    "### Esercizio 5: Giochiamo a \"Indovina il numero\"!\n",
    "\n",
    "Proviamo adesso a scrivere un programma Python che implementi il gioco \"Indovina il numero\". Le regole sono semplice. Il giocatore sceglie un numero di tentativi che vuole avere a disposizione. Poi, il gioco sceglierà un numero casuale tra 0 e un valore scelto dall'utente, e chiederà al giocatore di provare ad indovinare di che numero si tratta.\n",
    "\n",
    "Se il giocatore ha indovinato, la partita termina, altrimenti il gioco toglie un tentativo al giocatore, e suggerisce al giocatore se il numero che ha casualmente scelto è più basso o più alto del numero proposto dal giocatore, e poi ripropone la domanda.\n",
    "\n",
    "Se il giocatore non ha scoperto il numero entro il numero massimo di tentativi, il giocatore ha perso. Altrimenti, il giocatore guadagna un punteggio pari a:  100*(N-T-1)/N, dove T è il numero di tentativi usati dal giocatore, e N è il numero totale di tentativi a disposizione. Quindi, se il giocatore ha usato un solo tentativo, il giocatore otterrà il massimo dei punti in una scala \\[0,100\\].\n",
    "\n",
    "Per implementare il gioco, ci servirà una funzione della libreria Python che genera numeri casuali in un intervallo. Il modulo \"random\"\n"
   ]
  },
  {
   "cell_type": "code",
   "execution_count": null,
   "metadata": {},
   "outputs": [],
   "source": [
    "import random # con la parola chiave import possiamo richiamare moduli aggiuntivi\n",
    "\n",
    "N = int(input(\"Inserire il numero di tentativi che si vuole utilizzare: \"))\n",
    "valore_max = int(input(\"Inserire il valore massimo dell'intervallo: \"))\n",
    "\n",
    "# generiamo un numero intero casuale tra 0 e valore_max, entrambi inclusi\n",
    "valore_casuale = random.randint(0,valore_max)    # le funzioni di un modulo si richiamano anteponendo il nome del modulo, e poi un punto, alla funzione\n",
    "\n",
    "print(\"Numero casuale tra 0 e\",valore_max,\"generato, pronti, via!\")\n",
    "\n",
    "tentativo = 0\n",
    "vittoria = False\n",
    "while tentativo < N and (not vittoria):     # le espressioni booleane si possono costruire mettendo insieme valori booleani con gli operatori and,or e not\n",
    "    print(\"Hai ancora a disposizione\",N-tentativo,\"tentativi\")\n",
    "    scelta = int(input(\"A quale numero sto pensando? \"))\n",
    "\n",
    "    if scelta == valore_casuale:\n",
    "        print(\"Congratulazioni! Hai indovinato!\")\n",
    "        punteggio = (N-tentativo)/N*100\n",
    "        print(\"Il tuo punteggio è\",punteggio)\n",
    "        vittoria = True\n",
    "    elif valore_casuale < scelta:\n",
    "        print(\"Sbagliato, sto pensando ad un numero più piccolo!\")\n",
    "    else:\n",
    "        print(\"Sbagliato, sto pensando ad un numero più grande!\")\n",
    "    \n",
    "    tentativo += 1\n",
    "\n",
    "if not vittoria:\n",
    "    print(\"Mi spiace, hai perso! Il numero era:\",valore_casuale)\n"
   ]
  },
  {
   "cell_type": "markdown",
   "metadata": {},
   "source": [
    "# Liste\n",
    "\n",
    "Immaginiamo adesso di voler estendere il nostro gioco, in cui permettiamo al giocatore di effettuare più partite. Vogliamo che il gioco salvi il punteggio di ogni partita e mostri lo storico dei punteggi del giocatore dalla prima all'ultima partita fatta.\n",
    "\n",
    "A differenza del leggere da input una quantità sconosciuta di numeri, in cui ci è bastato richiedere prima quanti numeri leggere, e poi accumularli tutti in una variabile, adesso abbiamo necessità di mantenere davvero in memoria *tutti* i punteggi.\n",
    "\n",
    "Quindi, ci servirebbe un modo per dire a Python di creare una quantità di variabili dello stesso tipo (i punteggi) pari a quante partite farà l'utente. Questa cosa non è fattibile con i costrutti fino ad ora, ma ci serve un nuovo tipo di dati: le liste\n",
    "\n",
    "Una lista è un data type *mutabile* del linguaggio Python che rappresenta una *sequenza* di valori. Una stringa può essere vista come un caso speciale (ma non mutabile!) di una lista, in i cui la sequenza è una sequenza di caratteri. Le liste invece sono mutabili (cioè, possiamo cambiare il valore dei suoi elementi) e possono contenere valori di tipo arbitrario; anche di tipo diverso fra loro."
   ]
  },
  {
   "cell_type": "code",
   "execution_count": 7,
   "metadata": {},
   "outputs": [
    {
     "name": "stdout",
     "output_type": "stream",
     "text": [
      "[3, 6, 1, 'ciao', 3.4, True]\n"
     ]
    }
   ],
   "source": [
    "# come per tutti i tipi di dati, possiamo assegnare una lista ad una variabile tramite l'operatore = di assegnamento\n",
    "\n",
    "# una lista si crea usando [] e separando i suoi elementi da virgola\n",
    "mia_lista = [3,6,1,\"ciao\",3.4,True]         \n",
    "\n",
    "# Una lista può essere vuota, e la si dichiara semplicemente con [], ad esempio\n",
    "lista_vuota = []\n",
    "\n",
    "# la funzione print di Python è in grado di stampare su terminale il contenuto di una lista\n",
    "print(mia_lista)\n"
   ]
  },
  {
   "cell_type": "markdown",
   "metadata": {},
   "source": [
    "## Operatori\n",
    "Le liste supportano gli operatori di slicing, la funzione len, la concatenazione con +, e la ripetizione con *, come le stringhe:\n"
   ]
  },
  {
   "cell_type": "code",
   "execution_count": 20,
   "metadata": {},
   "outputs": [
    {
     "name": "stdout",
     "output_type": "stream",
     "text": [
      "[3, 5, 6, 10]\n",
      "[3, 5, 6, 10, 3, 5, 6, 10, 3, 5, 6, 10]\n"
     ]
    }
   ],
   "source": [
    "lista_1 = [3,5,6]\n",
    "lista_2 = [10,22,30]\n",
    "lista = lista_1 + lista_2\n",
    "\n",
    "sotto_lista = lista[:4]\n",
    "lunghezza = len(sotto_lista)\n",
    "\n",
    "print(sotto_lista)\n",
    "\n",
    "ripetuta = sotto_lista * 3\n",
    "print(ripetuta)\n"
   ]
  },
  {
   "cell_type": "markdown",
   "metadata": {},
   "source": [
    "In più supportano l'operatore *in* e *not in* che servono a verificare se un certo valore è presente o non è presente nella lista."
   ]
  },
  {
   "cell_type": "code",
   "execution_count": 27,
   "metadata": {},
   "outputs": [
    {
     "name": "stdout",
     "output_type": "stream",
     "text": [
      "numero presente\n",
      "il numero 100 non è presente\n"
     ]
    }
   ],
   "source": [
    "lista = [2,6,1,33,15]\n",
    "\n",
    "if 33 in lista:\n",
    "    print(\"numero presente\")\n",
    "else:\n",
    "    print(\"numero non presente\")\n",
    "\n",
    "\n",
    "if 100 not in lista:\n",
    "    print(\"il numero 100 non è presente\")\n",
    "else:\n",
    "    print(\"il numero 100 è presente\")\n"
   ]
  },
  {
   "cell_type": "markdown",
   "metadata": {},
   "source": [
    "Gli operatori sopra *non* modificano il contenuto delle liste di partenza.\n",
    "Tuttavia, essendo le liste mutabili, possiamo anche *modificarne* il contenuto, usando lo slicing e la concatenazione in un modo leggermente diverso, oppure altri operatori specifici"
   ]
  },
  {
   "cell_type": "code",
   "execution_count": 21,
   "metadata": {},
   "outputs": [
    {
     "name": "stdout",
     "output_type": "stream",
     "text": [
      "[3, 5, 6, 10]\n",
      "[3, 5, 6, 10, 1, 6, 2, 77]\n",
      "[3, 5, 6, 100, 1, 6, 2, 77]\n",
      "[3, 5, 1000, 2000, 2, 77]\n",
      "[2, 3, 5, 77, 1000, 2000]\n"
     ]
    }
   ],
   "source": [
    "lista = [3,5,6]\n",
    "\n",
    "# la funzione append, chiamata su una lista, ricevendo un valore, lo inserisce in coda alla lista, modificandola\n",
    "lista.append(10)        \n",
    "\n",
    "print(lista)\n",
    "\n",
    "# possiamo anche aggiungere un'altra lista in coda ad una lista con la funzione extend; perché non usiamo append?\n",
    "lista.extend([1,6,2,77])\n",
    "\n",
    "print(lista)\n",
    "\n",
    "# possiamo modificare un singolo elemento della lista assegnadogli un nuovo valore\n",
    "lista[3] = 100\n",
    "\n",
    "print(lista)\n",
    "\n",
    "# oppure possiamo sostituire intere porzioni della lista con un'altra lista (che può essere più lunga, corta o uguale alla porzione sostituita)\n",
    "lista[2:6] = [1000,2000]\n",
    "\n",
    "print(lista)\n",
    "\n",
    "# possiamo anche ordinare gli elementi nella lista in ordine crescente\n",
    "lista.sort()\n",
    "print(lista)\n"
   ]
  },
  {
   "cell_type": "markdown",
   "metadata": {},
   "source": [
    "### Esercizio 6: Aggiungiamo uno storico dei punteggi\n",
    "\n",
    "Adesso proviamo ad usare una lista per immagazzinare lo storico dei punteggi ottenuti da un giocatore durante una sessione di più partite al nostro gioco.\n",
    "\n",
    "Prima capiamone la struttura. In particolare, a fine di ogni partita, dobbiamo:\n",
    " - aggiungere allo storico il punteggio del giocatore\n",
    " - chiedere al giocatore se vuole giocare ancora, e in caso affermativo, rigenerare un numero casuale, e così via.\n",
    "\n",
    "Quindi, qualcosa di simile a:\n",
    "\n",
    "```python\n",
    "# chiediamo il numero di tentativi N e il valore_max come al solito\n",
    "# ...\n",
    "\n",
    "# inizializziamo la lista dei punteggi\n",
    "punteggi = []\n",
    "\n",
    "# teniamo di traccia di cosa vuole il giocatore\n",
    "giocatore_vuole_ancora_giocare = True\n",
    "\n",
    "while giocatore_vuole_ancora_giocare:\n",
    "\n",
    "    # generiamo numero casuale, e avviamo la partita come prima\n",
    "    # ...\n",
    "\n",
    "    # a fine partita, aggiungiamo il punteggio alla lista e chiediamo cosa vuole fare l'utente\n",
    "\n",
    "    punteggi.append(punteggio)\n",
    "\n",
    "    risposta = \"\"\n",
    "    while risposta != \"Si\" and risposta != \"No\":\n",
    "        risposta = input(\"Vuoi continuare a giocare? (rispondere Si o No)\")\n",
    "\n",
    "    if risposta == \"No\":\n",
    "        giocatore_vuole_ancora_giocare = False\n",
    "\n",
    "# arrivati alla fine di tutto, mostriamo la lista di punteggi\n",
    "\n",
    "print(\"Lo storico dei punteggi è:\",punteggi)\n",
    "```"
   ]
  },
  {
   "cell_type": "code",
   "execution_count": null,
   "metadata": {},
   "outputs": [],
   "source": [
    "import random\n",
    "\n",
    "# chiediamo il numero di tentativi N e il valore_max come al solito\n",
    "N = int(input(\"Inserire il numero di tentativi che si vuole utilizzare: \"))\n",
    "valore_max = int(input(\"Inserire il valore massimo dell'intervallo: \"))\n",
    "\n",
    "# inizializziamo la lista dei punteggi\n",
    "punteggi = []\n",
    "\n",
    "# teniamo traccia di cosa vuole il giocatore\n",
    "giocatore_vuole_ancora_giocare = True\n",
    "\n",
    "while giocatore_vuole_ancora_giocare:\n",
    "\n",
    "    # generiamo numero casuale, e avviamo la partita come prima\n",
    "    valore_casuale = random.randint(0,valore_max)    \n",
    "\n",
    "    print(\"Numero casuale tra 0 e\",valore_max,\"generato, pronti, via!\")\n",
    "\n",
    "    tentativo = 0\n",
    "    vittoria = False\n",
    "\n",
    "    punteggio = 0\n",
    "    while tentativo < N and (not vittoria):\n",
    "        print(\"Hai ancora a disposizione\",N-tentativo,\"tentativi\")\n",
    "        scelta = int(input(\"A quale numero sto pensando? \"))\n",
    "\n",
    "        if scelta == valore_casuale:\n",
    "            print(\"Congratulazioni! Hai indovinato!\")\n",
    "            punteggio = (N-tentativo)/N*100\n",
    "            print(\"Il tuo punteggio è\",punteggio)\n",
    "            vittoria = True\n",
    "        elif valore_casuale < scelta:\n",
    "            print(\"Sbagliato, sto pensando ad un numero più piccolo!\")\n",
    "        else:\n",
    "            print(\"Sbagliato, sto pensando ad un numero più grande!\")\n",
    "        \n",
    "        tentativo += 1\n",
    "\n",
    "    if not vittoria:\n",
    "        print(\"Mi spiace, hai perso! Il numero era:\",valore_casuale)\n",
    "\n",
    "    # a fine partita, aggiungiamo il punteggio alla lista e chiediamo cosa vuole fare l'utente\n",
    "    punteggi.append(punteggio)\n",
    "\n",
    "    risposta = \"\"\n",
    "    while risposta != \"Si\" and risposta != \"No\":\n",
    "        risposta = input(\"Vuoi continuare a giocare? (rispondere Si o No)\")\n",
    "\n",
    "    if risposta == \"No\":\n",
    "        giocatore_vuole_ancora_giocare = False\n",
    "\n",
    "# arrivati alla fine di tutto, mostriamo la lista di punteggi\n",
    "\n",
    "print(\"Lo storico dei punteggi è:\",punteggi)\n"
   ]
  }
 ],
 "metadata": {
  "kernelspec": {
   "display_name": ".venv",
   "language": "python",
   "name": "python3"
  },
  "language_info": {
   "codemirror_mode": {
    "name": "ipython",
    "version": 3
   },
   "file_extension": ".py",
   "mimetype": "text/x-python",
   "name": "python",
   "nbconvert_exporter": "python",
   "pygments_lexer": "ipython3",
   "version": "3.11.8"
  }
 },
 "nbformat": 4,
 "nbformat_minor": 2
}
