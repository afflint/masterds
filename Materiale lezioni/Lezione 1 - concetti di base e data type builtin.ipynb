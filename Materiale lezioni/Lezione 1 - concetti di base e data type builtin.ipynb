{
 "cells": [
  {
   "cell_type": "markdown",
   "metadata": {},
   "source": [
    "# Materiale del corso\n",
    "\n",
    "Tutto il materiale del corso verrà pubblicato su GitHub al seguente repository:\n",
    "\n",
    "https://github.com/afflint/masterds\n",
    "\n",
    "\n",
    "# Liguaggi di programmazione\n",
    "\n",
    "- Un linguaggio di programmazione è una collezione di elementi sintattici che servono alla scrittura di programmi per un calcolatore.\n",
    "\n",
    "- In altre parole, un linguaggio di programmazione che ci consente di definire una sequenza (programma) di operazioni (istruzioni) molto basilari che il nostro PC dovrà eseguire. \n",
    "\n",
    "- A quale scopo? Automatizzazione di task quali l'elaborazione dei dati.\n",
    "\n",
    "## I diversi tipi di linguaggi\n",
    "\n",
    "Esistono diversi linguaggi di programmazione, ognuno con le proprie caratteristiche. In generale, distinguiamo i linguaggi di programmazione rispetto ad alcune proprietà chiave:\n",
    "\n",
    "### Linguaggi ad alto livello vs a basso livello\n",
    "\n",
    "- Un linguaggio a basso livello è un linguaggio che mette a disposizione costrutti di programmazione molto semplici, e molto vicini/simili alle operazioni che il vostro PC è in grado di eseguire. Quindi, le istruzioni scritte in questi linguaggi sono facilmente traducibili in operazioni basilari che il processore del vostro PC sa eseguire. I vantaggi sono solitamente che i programmi che ne risultano sono molto efficienti, utilizzando solo le risorse necessarie, e mettono lo sviluppatore in totale controllo del proprio calcolatore. Gli svantaggi includono solitamente una maggiore difficoltà per il programmatore nello sviluppare anche programmi molto semplici, e una maggiore probabilità di riscontrare errori di programmazione, come ad esempio memory leak, o accesso ad aree di memoria non consentite: quindi valutare la correttezza di programmi scritti in questi linguaggi è più difficile. \n",
    "\n",
    "Esempi di questi linguaggi sono l'assembly e il C. Il C++ può essere definito più un linguaggio di medio livello. \n",
    "\n",
    "- Un linguaggio ad alto livello, invece è un liguaggio che permette al programmatore di concentrarsi sullo sviluppo del proprio software, senza doversi preoccupare di dettagli come la gestione della memoria del proprio programma, su quale sistema operativo il programma viene eseguito,su quale processore, ecc. Inoltre, solitamente, il set di istruzioni/operazioni di base che tali linguaggi mettono a disposizione è composto da operazioni anche articolate, che in linguaggi di basso livello richiederebbero molte più istruzioni in sequenza per essere eseguite. I vantaggi di questi linguaggi sono la velocità di sviluppo del software, e la minore probabilità  di effettuare errori di programmazione. Uno dei principali svantaggi sono l'utilizzo solitamente maggiore, rispetto ai linguaggi di basso livello, di risorse, come memoria e CPU, per via dell'astrazione maggiore che il linguaggio offre.\n",
    "\n",
    "Esempi includono Python, Java, C#, Ruby, PHP.\n",
    "\n",
    "\n",
    "### Linguaggi compilati vs interpretati\n",
    "\n",
    "Come fa il nostro PC ad eseguire le istruzioni che abbiamo specificato tramite un linguaggio di programmazione? Esistono principalmente due modi in cui questo può avvenire:\n",
    "\n",
    "- Tramite compilatore: in questo caso, diamo il codice del nostro programma in pasto ad un software, chiamato compilatore, che ha il compito di convertirle in operazioni ancora più semplici, dette di linguaggio macchina, che vengono poi inserite in un file cosìddetto eseguibile (i file .exe in Windows). Questo file può adesso essere eseguito sul vostro calcolatore, facendolo lanciare al sistema operativo, che si occuperà di dare queste istruzioni al vostro processore (su Windows questo avviene, ad esempio, quando fate doppio-click su un eseguibile). Vantaggi di questo approccio è che il compilatore ha l'opportunità di ottimizare il vostro programma, mentre lo compila in un eseguibile. In più, compilando il codice in linguaggio macchina, il nostro programma viene eseguito in modo molto più efficiente, perché eseguito direttamente dal processore. Lo svantaggio è che per programmi grandi, i tempi di compilazione potrebbero essere elevati, e apportare modifiche frequenti al proprio codice, richiede ricompilazioni molto frequenti, rallentando il lavoro.\n",
    "\n",
    "Esempi di linguaggi compilati: C/C++, Rust, D, Go\n",
    "\n",
    "- Tramite interprete: in questo caso, invece di un compilatore, utilizziamo un software chiamato *interprete*. Il compito dell'interprete è ricevere il codice del nostro programma scritto in un certo linguaggio, e invece di compilarlo in linguaggio macchina, interpreta \"al volo\" ciascuna istruzinoe e la esegue sul momento. Il vantaggio di questo approccio è che non esistono tempi di compilazione. Basta modificare il codice del nostro programma come preferiamo, e siamo già pronti ad eseguirlo. Un altro vantaggio è che il programma può essere eseguito su tutti i sistemi operativi che dispongono dell'interprete, mentre il compilatore non solo deve supportare il sistema operativo che ci interessa, ma deve anche supportare il tipo di processore che verrà utilizzato, per poter compilare il codice nel linguaggio macchina di quel processore. Gli svantaggi sono una maggiore lentezza di esecuzione, perché usiamo l'interprete come intermediario.\n",
    "\n",
    "Esempi di linguaggi interpretati: Python, Ruby, Javascript.\n",
    "\n",
    "### Linguaggi con tipizzazione statica o dinamica\n",
    "\n",
    "Come vedremo, affinché un linguaggio di programmazione sia utile in pratica, deve permettere al programmatore di immagazzinare informazini in memoria, per poterle elaborare. In base a come il linguaggio ci permette di gestire questi dati, distinguiamo due classi di linguaggi:\n",
    "\n",
    "- Con tipizzazione statica: quando nel nostro programma ci serve utilizzare un'area di memoria, per memorizzare un dato, dobbiamo sempre specificare il tipo di dato che vogliamo memorizzare (ad es., una numero intero, un testo, ecc.). Vantaggi: maggiore chiarezza di cosa il programma, leggendone il codice sorgente, e più sicurezza che il programma si comporti come ci si aspetta, quando verrà eseguito.\n",
    "\n",
    "Esempi di linguaggi con tipizzazione statica: C/C++, Rust, D, Go, C#\n",
    "\n",
    "- Con tipizzazione dinamica: non siamo obbligati a dichiarare che tipo di dato vogliamo memorizzare una una certa area di memoria. Quindi, siamo liberi di variare il tipo di contenuto della stessa area di memoria, in qualunque momento, durante l'esecuzione del programma. Vantaggi: maggiore semplicità di programmazione, e flessibilità a cambiamenti futuri del codice. Svantaggi: più difficile identificare errori prima di eseguire il programma, perché non possiamo sapere se un'operazione è valida su quel dato, e prima non eseguiamo il programma.\n",
    "\n",
    "Esempi di linguaggi con tipizzazione dinamica: Python, Ruby, Javacript\n",
    "\n",
    "\n",
    "# Python\n",
    "\n",
    "Python è un linguaggio di programmazione:\n",
    "\n",
    "- ad alto livello\n",
    "- interpretato\n",
    "- con tipizzazione dinamica\n",
    "\n",
    "È quindi principalmente adatto allo sviluppo *veloce* di software che non abbia requisiti stringenti in termini di efficienza di esecuzione.\n",
    "Utilizzato molto per il Data Science, perché rende estremamente semplice la manipolazione dei dati.\n",
    "\n",
    "Esistono due versioni parallele di Python: la v2 e la v3. La v2 può considerarsi ormai obsoleta, e durante il corso utilizzeremo la versione 3.\n",
    "\n",
    "\n",
    "# Installazione dell'interprete Python\n",
    "\n",
    "Per prima cosa, è necessario scaricare l'interprete Python per il proprio sistema operativo:\n",
    "\n",
    "- [Per Windows](https://www.python.org/ftp/python/3.12.3/python-3.12.3-amd64.exe)\n",
    "- [Per MacOS](https://www.python.org/ftp/python/3.12.3/python-3.12.3-macos11.pkg)\n",
    "- Su Linux dovrebbe già essere installato\n",
    "\n",
    "Su Windows e MacOS dovrebbe essere sufficiente seguire i passaggi del programma di installazione.\n",
    "\n",
    "** Nota Windows **\n",
    "\n",
    "Durante l'installazione è *importante* spuntare la scelta \"Add Python 3.x to PATH\" o simile.\n",
    "\n",
    "# Utilizzo dell'interprete Python (modalità interattiva)\n",
    "\n",
    "L'interprete Python è un software \"da riga di comando\". I software solitamente, si possono distinguere in due macro-categorie:\n",
    "\n",
    "- Software con GUI (Graphical User Interface): sono i normali programmi a cui siamo abituati, che possono visualizzare finestre e pulsanti, quali Word, Excel, Blocco Note, Google Chrome, ecc. L'interazione con questi software è quindi tramite mouse (punta e clicca) e/o tastiera, e vengono eseguiti (solitamente) facendo doppio click sull'eseguibile.\n",
    "- Software a riga di comando: sono programmi che non dispongono di una interfaccia grafica, e quindi, di solito, non vengono eseguiti facendo doppio click sull'eseguibile, perché non mostrerebbero nulla all'utente. Vengono invece eseguit all'interno di un ambiente dedicato che è il *terminale* (Linux e MacOS) o Prompt dei comandi/PowerShell (Windows). Il terminale è un ambiente che ci permette di eseguire programma a riga di comando. L'interazione con questi software è solitamente esclusivamente tramite tastiera, e il responso di questi software in reazione alle nostre richieste viene solitamente mostrato come testo semplice all'interno del terminale.\n",
    "\n",
    "Per poter eseguire un programma a riga di comando da terminale è necessario che:\n",
    "- questo prima venga installato\n",
    "- e venga \"reso disponibile\" al terminale\n",
    "\n",
    "Il secondo requisito viene soddisfatto in fase di installazione del software a riga di comando, indicando all'installatore di aggiungere il software alla cosiddetta variabile di ambiente PATH, cioè un'area di memoria del sistema operativo che raccoglie tutti i percorsi (cartelle) che contengono i programma a riga di comando che vogliamo lanciare da terminale.\n",
    "\n",
    "Se i due requisiti sopra sono soddisfatti allora possiamo lanciare il software semplicemente scrivendo il nome dell'eseguibile e dando Invio sulla tastiera.\n",
    "\n",
    "Per lanciare l'interprete python aprire un Terminale su MacOS/Linux oppure il Prompt dei Comandi su Windows, e digiare `python`\n",
    "\n",
    "Dovrebbe apparire sul terminale una cosa simile a:\n",
    "```\n",
    "Python 3.11.8 (main, Feb 12 2024, 14:50:05) [GCC 13.2.1 20230801] on linux\n",
    "Type \"help\", \"copyright\", \"credits\" or \"license\" for more information.\n",
    ">>> \n",
    "```\n",
    "\n",
    "Vuol dire che l'interprete è pronto a ricevere un'istruzione Python che vogliamo eseguire.\n",
    "L'istruzione più semplice è quella che fa \"stampare\" su terminale un testo:\n"
   ]
  },
  {
   "cell_type": "code",
   "execution_count": 1,
   "metadata": {},
   "outputs": [
    {
     "name": "stdout",
     "output_type": "stream",
     "text": [
      "Ciao, Mondo!\n"
     ]
    }
   ],
   "source": [
    "print(\"Ciao, Mondo!\")"
   ]
  },
  {
   "cell_type": "markdown",
   "metadata": {},
   "source": [
    "Per uscire dall'interprete, basta usare la combinazione di tasti Ctrl+D da tastiera, oppure scrivere quit() e dare Invio"
   ]
  },
  {
   "cell_type": "markdown",
   "metadata": {},
   "source": [
    "# Installazione dell'ambiente di sviluppo Visual Studio Code\n",
    "\n",
    "Ora, l'interprete è sicuramente molto comodo per eseguire al volo qualche istruzione, ma non è molto pratico quando si vogliono realizzare programmi più complessi. \n",
    "\n",
    "In questo caso, non si utilizza l'interprete in modalità interattiva, ma definiamo la sequenza di istruzioni che vogliamo eseguire in un file di testo, chiamato \"file sorgente\". Una volta salvato questo file su disco, possiamo richiamare l'interprete da terminale, ma questa volta, possiamo indicargli il file sorgente da eseguire. Quello che farà l'interprete sarà di eseguire le istruzioni del file sorgente una dopo l'altra.\n",
    "\n",
    "Anche se si tratta di semplici file testuali, che potremmo modificare con il Blocco Note di Windows, è molto più pratico utilizzato un software apposito.\n",
    "\n",
    "Installiamo Visual Studio Code.\n",
    "\n",
    "[Per Windows](https://code.visualstudio.com/sha/download?build=stable&os=win32-x64)\n",
    " \n",
    "[Per MacOS](https://code.visualstudio.com/sha/download?build=stable&os=darwin-universal)\n",
    " \n",
    "Per Linux:\n",
    "- Ubuntu/Debian e derivate, scaricare il file .deb da https://code.visualstudio.com/download e installarlo da terminale con \"sudo apt install <filedeb>\n",
    "- Fedora e derivate, scaricare il file .rpm da https://code.visualstudio.com/download e installarlo da terminale con \"sudo dnf install <filerpm>\n",
    "\n",
    "\n",
    "Una volta installato, dovreste trovarlo nell'elenco dei programmi offerto dal vostro sistema operativo. Avviamolo.\n",
    "\n",
    "\n",
    "Visual Studio Code è un ambiente di sviluppo per diversi linguaggi di programmazione. Per aggiunger il supporto a Python, cliccare sull'icona della barra verticale sinistra raffigurante dei \"quadrati\" e cercare python.\n",
    "\n",
    "Cliccare sul primo risultato, e cliccare \"Install\".\n",
    "\n",
    "Cercare anche il support ai \"Jupyter notebooks\" e installarlo (sarà utile più avanti).\n",
    "\n"
   ]
  },
  {
   "cell_type": "markdown",
   "metadata": {},
   "source": [
    "# Creare un progetto Python su VSCode\n",
    "\n",
    "Per iniziare a scrivere un sorgente Python, clicchiamo sull'icona raffigurante dei documenti, sulla barra verticale di sinistra, e cliccare il pulsante \"Open folder\". VSCode ci chiederà in quale cartella vogliamo creare il progetto. Scegliamone una a piacere.\n",
    "\n",
    "Dovreste vedere la cartella nel menu di navigazione a sinistra. Ora, creiamo un file sorgente in questa cartella semplicemente muovendo il mouse sul nome della cartella, e cliccando l'icona raffigurante un documento con il simbolo \"+\".\n",
    "\n",
    "Diamo un nome al file. Per convenzione, l'estensione di un file sorgente Python è .py, quindi ad esempio lezione1.py.\n",
    "\n",
    "Proviamo a inserire l'unica istruzione che al momento conosciamo."
   ]
  },
  {
   "cell_type": "code",
   "execution_count": null,
   "metadata": {},
   "outputs": [],
   "source": [
    "print(\"Ciao!\")"
   ]
  },
  {
   "cell_type": "markdown",
   "metadata": {},
   "source": [
    "Ora, possiamo chiedere a VSCode di dare il contenuto del nostro file sorgente in pasto all'interprete Python in modo da eseguirlo. Per farlo, basta cliccare sull'icona raffigurante un \"Play\", sulla barra di sinistra, e cliccare \"Run and Debug\". La prima volta che lo farete, VSCode vi chiederà quale interprete Python volete usare. L'unica opzione sarà quello che abbiamo installato prima.\n",
    "\n",
    "Selezionatelo, e poi indicate che volete usare il file corrente come input all'interprete.\n",
    "\n",
    "Se tutto è andato bene, dovreste vedere in basso la scheda \"Terminale\", che vi mostra il risultato di esecuzione del file sorgente.\n",
    "\n",
    "\n",
    "# Variabili e tipi di dato\n",
    "\n",
    "Un programma che stampa soltanto del testo su terminale non è molto interessante. Una delle funzioni basilari di un programma è quello di immagazzinare dati ed elaborarli per calcolare il risultato ad un problema. Per immagazzinare dati utilizziamo le *variabili*.\n",
    "\n",
    "Una variabile è composta da due cose:\n",
    "- un nome che la identifica\n",
    "- e il valore a cui fa riferimento\n",
    "\n",
    "Per utilizzare una variabile, dobbiamo *prima* dichiararla, con l'operatore di assegnamento = (che, nota bene, non c'entra nulla con l'uguglianza matematica!)\n"
   ]
  },
  {
   "cell_type": "code",
   "execution_count": 7,
   "metadata": {},
   "outputs": [
    {
     "data": {
      "text/plain": [
       "str"
      ]
     },
     "execution_count": 7,
     "metadata": {},
     "output_type": "execute_result"
    }
   ],
   "source": [
    "mia_variabile = 10"
   ]
  },
  {
   "cell_type": "markdown",
   "metadata": {},
   "source": [
    "L'istruzione sopra dichiara una variabile di nome \"mia_variabile\", e vi *assegna* il valore 10. Per non confondersi, può essere utile leggere una dichiarazione di variabile da destra a sinistra, indicando intuitivamente che stiamo assegnando il valore a destra dell'uguale, alla variabile alla sinistra.\n",
    "\n",
    "I nomi di variabile possono essere composti da lettere maiuscole e minuscole, numeri, e il simbolo \"_\", con le seguenti eccezinoi:\n",
    "\n",
    "- il nome di una variabile non può iniziare con un numero.\n",
    "- il nome di una variabile non può coincidere con una delle parole riservate (keyword) di Python. Questi sono operatori, termini, ecc., che hanno un significato ben preciso in Python, e non possono essere usati come nome di variabile per non creare ambiguità.\n",
    "\n",
    "La lista delle keyword python è:\n",
    "\n"
   ]
  },
  {
   "cell_type": "code",
   "execution_count": 33,
   "metadata": {},
   "outputs": [
    {
     "name": "stdout",
     "output_type": "stream",
     "text": [
      "\n",
      "Here is a list of the Python keywords.  Enter any keyword to get more help.\n",
      "\n",
      "False               class               from                or\n",
      "None                continue            global              pass\n",
      "True                def                 if                  raise\n",
      "and                 del                 import              return\n",
      "as                  elif                in                  try\n",
      "assert              else                is                  while\n",
      "async               except              lambda              with\n",
      "await               finally             nonlocal            yield\n",
      "break               for                 not                 \n",
      "\n"
     ]
    }
   ],
   "source": [
    "help(\"keywords\")"
   ]
  },
  {
   "cell_type": "markdown",
   "metadata": {},
   "source": [
    "Python mette a disposizione diversi tipi di dati.\n",
    "\n",
    "### Tipi di base Python\n",
    "\n",
    "int, float, complex, bool, e string.\n",
    "\n",
    "Se ad una variabile viene assegnato un valore di tipo T, diremo che la variabile è di tipo T. Una variabile può cambiare tipo in ogni momento nel corso del programma.\n",
    "\n",
    "Ad esempio, usando l'operatore type di python su una variabile, è possibile vederne il tipo"
   ]
  },
  {
   "cell_type": "code",
   "execution_count": 10,
   "metadata": {},
   "outputs": [
    {
     "name": "stdout",
     "output_type": "stream",
     "text": [
      "<class 'int'>\n",
      "<class 'float'>\n",
      "<class 'str'>\n",
      "<class 'complex'>\n",
      "<class 'bool'>\n"
     ]
    }
   ],
   "source": [
    "mia_variabile = 5\n",
    "\n",
    "print(type(mia_variabile))\n",
    "\n",
    "mia_variabile = 4.6\n",
    "\n",
    "print(type(mia_variabile))\n",
    "\n",
    "mia_variabile = \"test\"\n",
    "\n",
    "print(type(mia_variabile))\n",
    "\n",
    "mia_variabile = 4.6 + 9.1j\n",
    "\n",
    "print(type(mia_variabile))\n",
    "\n",
    "mia_variabile = True\n",
    "\n",
    "print(type(mia_variabile))"
   ]
  },
  {
   "cell_type": "markdown",
   "metadata": {},
   "source": [
    "- int: numeri interi positivi e negativi, incluso lo 0, di lunghezza qualsiasi\n",
    "- float: numeri \"a virgola mobile\", cioè numeri con la virgola positivi e negativi, entro un certo grado di precisione (15 cifre dopo la virgola sono garantite essere corrette).\n",
    "- complex: numero complessi composti da una parte reale e una immaginaria\n",
    "- bool: due soli valori, True e False\n",
    "- string: sequenze di caratteri. Si possono dichiarare con \"stringa\", oppure 'stringa'.\n",
    "\n",
    "\n",
    "## Operatori aritmetici su tipi numerici (int, float, complex)\n",
    "\n",
    "### Somma\n"
   ]
  },
  {
   "cell_type": "code",
   "execution_count": 11,
   "metadata": {},
   "outputs": [
    {
     "name": "stdout",
     "output_type": "stream",
     "text": [
      "16.4\n"
     ]
    }
   ],
   "source": [
    "parziale_1 = 4\n",
    "parziale_2 = 12.4\n",
    "totale = parziale_1 + parziale_2\n",
    "print(totale)"
   ]
  },
  {
   "cell_type": "markdown",
   "metadata": {},
   "source": [
    "Dati numerici di tipo diverso possono essere combinati implicitamente. Python utilizzerà, per il risultato, il tipo di dato più adeguato a contenerlo.\n"
   ]
  },
  {
   "cell_type": "code",
   "execution_count": 12,
   "metadata": {},
   "outputs": [
    {
     "name": "stdout",
     "output_type": "stream",
     "text": [
      "<class 'float'>\n"
     ]
    }
   ],
   "source": [
    "print(type(totale))"
   ]
  },
  {
   "cell_type": "markdown",
   "metadata": {},
   "source": [
    "Come già anticipato, l'operatore di assegnamento di una variabile non è l'uguaglianza matematica. Il che vuol dire che assegnamenti di questo tipo sono leciti."
   ]
  },
  {
   "cell_type": "code",
   "execution_count": null,
   "metadata": {},
   "outputs": [],
   "source": [
    "contatore = 10\n",
    "contatore = contatore + 1\n",
    "print(contatore)"
   ]
  },
  {
   "cell_type": "markdown",
   "metadata": {},
   "source": [
    "L'espressione sulla destra dell'uguale viene prima valutata, e il valore risultante viene assegnato alla variabile contatore. Questo ha di fatto l'effetto di incrementare il valore a cui la variabiile fa riferimento."
   ]
  },
  {
   "cell_type": "markdown",
   "metadata": {},
   "source": [
    "### Differenza"
   ]
  },
  {
   "cell_type": "code",
   "execution_count": 13,
   "metadata": {},
   "outputs": [
    {
     "name": "stdout",
     "output_type": "stream",
     "text": [
      "-8.4\n"
     ]
    }
   ],
   "source": [
    "totale = parziale_1 - parziale_2\n",
    "print(totale)"
   ]
  },
  {
   "cell_type": "markdown",
   "metadata": {},
   "source": [
    "### Prodotto"
   ]
  },
  {
   "cell_type": "code",
   "execution_count": null,
   "metadata": {},
   "outputs": [],
   "source": [
    "totale = parziale_1 * parziale_2\n",
    "print(totale)"
   ]
  },
  {
   "cell_type": "markdown",
   "metadata": {},
   "source": [
    "### Divisione (float)"
   ]
  },
  {
   "cell_type": "code",
   "execution_count": 14,
   "metadata": {},
   "outputs": [
    {
     "name": "stdout",
     "output_type": "stream",
     "text": [
      "0.3225806451612903\n"
     ]
    }
   ],
   "source": [
    "totale = parziale_1 / parziale_2\n",
    "print(totale)"
   ]
  },
  {
   "cell_type": "markdown",
   "metadata": {},
   "source": [
    "### Divisione (int)\n",
    "È possibile effettuare una divisione che restituisce solo la parte intera del risultato, senza parte decimale. Notare che questo è diverso dal fare un arrotondamento!"
   ]
  },
  {
   "cell_type": "code",
   "execution_count": 15,
   "metadata": {},
   "outputs": [
    {
     "name": "stdout",
     "output_type": "stream",
     "text": [
      "3.0\n"
     ]
    }
   ],
   "source": [
    "totale = parziale_2 // parziale_1\n",
    "print(totale)"
   ]
  },
  {
   "cell_type": "markdown",
   "metadata": {},
   "source": [
    "### Modulo (resto della divisione)"
   ]
  },
  {
   "cell_type": "code",
   "execution_count": 17,
   "metadata": {},
   "outputs": [
    {
     "name": "stdout",
     "output_type": "stream",
     "text": [
      "5\n"
     ]
    }
   ],
   "source": [
    "resto = 40 % 7\n",
    "print(resto)"
   ]
  },
  {
   "cell_type": "markdown",
   "metadata": {},
   "source": [
    "### Elevamento a potenza"
   ]
  },
  {
   "cell_type": "code",
   "execution_count": 18,
   "metadata": {},
   "outputs": [
    {
     "name": "stdout",
     "output_type": "stream",
     "text": [
      "16384\n"
     ]
    }
   ],
   "source": [
    "base = 4\n",
    "esponente = 7\n",
    "risultato = base**esponente\n",
    "print(risultato)"
   ]
  },
  {
   "cell_type": "markdown",
   "metadata": {},
   "source": [
    "Gli operatori possono essere combinati a piacere, ricordando che l'elevamento a potenza ha la massima priorità, poi vengono prodotto, divisione (entrambe) e modulo, poi somma e differenza. Per evitare dubbi, possiamo usare le parentesi, come in Matematica.\n"
   ]
  },
  {
   "cell_type": "code",
   "execution_count": 19,
   "metadata": {},
   "outputs": [
    {
     "name": "stdout",
     "output_type": "stream",
     "text": [
      "47.6\n"
     ]
    }
   ],
   "source": [
    "totale = parziale_1 * ( 2 + parziale_2) - (40//parziale_1)\n",
    "print(totale)"
   ]
  },
  {
   "cell_type": "markdown",
   "metadata": {},
   "source": [
    "Tutte le volte che vogliamo applicare un operatore ad una variabile e poi il risultato vogliamo assegnarlo alla stessa variabile, è possibile farlo in forma compatta."
   ]
  },
  {
   "cell_type": "code",
   "execution_count": 32,
   "metadata": {},
   "outputs": [],
   "source": [
    "valore = 7\n",
    "valore *= 3 # moltiplica per 3 la variabile valore, e assegna il risultato alla stessa variabile\n",
    "\n",
    "valore += 2 # incrementa di 2\n",
    "\n",
    "valore //= 6 # equivale a valore = valore // 6\n",
    "\n"
   ]
  },
  {
   "cell_type": "markdown",
   "metadata": {},
   "source": [
    "## Stringhe\n",
    "\n",
    "Le stringhe possono essere dichiarate in 2 modi diversi\n"
   ]
  },
  {
   "cell_type": "code",
   "execution_count": 20,
   "metadata": {},
   "outputs": [
    {
     "name": "stdout",
     "output_type": "stream",
     "text": [
      "stringa con doppi apici\n",
      "stringa con singoli apici\n",
      "stringa con 3 apici, che \n",
      "può essere scritta su più righe\n"
     ]
    }
   ],
   "source": [
    "stringa_1 = \"stringa con doppi apici\"\n",
    "stringa_2 = 'stringa con singoli apici'\n",
    "\n",
    "print(stringa_1)\n",
    "print(stringa_2)\n"
   ]
  },
  {
   "cell_type": "markdown",
   "metadata": {},
   "source": [
    "Le tre modalità sono equivalenti. La differenza è che con i doppi apici, possiamo inserire i singoli apici nella stringa, e viceversa.\n",
    "\n",
    "Per dichiarare stringhe che contengono più righe, basta \"triplicare\" gli apici\n"
   ]
  },
  {
   "cell_type": "code",
   "execution_count": 21,
   "metadata": {},
   "outputs": [
    {
     "name": "stdout",
     "output_type": "stream",
     "text": [
      "\"stringa su più righe che\n",
      "può contenere ' al suo interno\n",
      "stringa su più righe che\n",
      "può contenere \" al suo interno\n"
     ]
    }
   ],
   "source": [
    "stringa_1 = \"\"\"\"stringa su più righe che\n",
    "può contenere ' al suo interno\"\"\"\n",
    "stringa_2 = '''stringa su più righe che\n",
    "può contenere \" al suo interno'''\n",
    "\n",
    "print(stringa_1)\n",
    "print(stringa_2)"
   ]
  },
  {
   "cell_type": "markdown",
   "metadata": {},
   "source": [
    "Similmente ai tipi numerici, le stringhe possono essere combinate con operatori appositi.\n",
    "\n",
    "### Concatenazione\n",
    "\n",
    "Possiamo concatenare due o più stringhe usando l'operatore +."
   ]
  },
  {
   "cell_type": "code",
   "execution_count": 22,
   "metadata": {},
   "outputs": [
    {
     "name": "stdout",
     "output_type": "stream",
     "text": [
      "Ciao, Mondo!\n"
     ]
    }
   ],
   "source": [
    "stringa_1 = \"Ciao, \"\n",
    "stringa_2 = \"Mondo\"\n",
    "risultato = stringa_1 + stringa_2 + \"!\"\n",
    "print(risultato)"
   ]
  },
  {
   "cell_type": "markdown",
   "metadata": {},
   "source": [
    "Oppure possiamo concatenare una stringa con se stessa, un certo numero di volte.\n"
   ]
  },
  {
   "cell_type": "code",
   "execution_count": 23,
   "metadata": {},
   "outputs": [
    {
     "name": "stdout",
     "output_type": "stream",
     "text": [
      "PythonPythonPythonPythonPythonPythonPythonPythonPythonPython\n"
     ]
    }
   ],
   "source": [
    "stringa = \"Python\"\n",
    "risultato = stringa * 10\n",
    "print(risultato)"
   ]
  },
  {
   "cell_type": "markdown",
   "metadata": {},
   "source": [
    "Possiamo concatenare stringhe con altri tipo di dati, a patto di convertire quel dato in formato stringa. Python mette a disposizione l'operatore str() che è in grado di convertire tutti i tipi di base in stringa, più altri tipi che vedremo."
   ]
  },
  {
   "cell_type": "code",
   "execution_count": 24,
   "metadata": {},
   "outputs": [
    {
     "name": "stdout",
     "output_type": "stream",
     "text": [
      "Il totale è 80\n"
     ]
    }
   ],
   "source": [
    "totale = 40 * 2\n",
    "stringa = \"Il totale è \"+str(totale)\n",
    "print(stringa)"
   ]
  },
  {
   "cell_type": "markdown",
   "metadata": {},
   "source": [
    "Un modo alternativo di combinare stringhe ad altri valori è usare le f-string. Sono stringhe dichiarate con f\"contenuto\""
   ]
  },
  {
   "cell_type": "code",
   "execution_count": 25,
   "metadata": {},
   "outputs": [
    {
     "name": "stdout",
     "output_type": "stream",
     "text": [
      "Il totale è 80\n"
     ]
    }
   ],
   "source": [
    "totale = 40 * 2\n",
    "stringa = f\"Il totale è {totale}\"\n",
    "print(stringa)"
   ]
  },
  {
   "cell_type": "markdown",
   "metadata": {},
   "source": [
    "### Slicing\n",
    "\n",
    "Possiamo \"estrarre\" un pezzo di una stringa. L'estrazione non modifica la stringa di partenza, ma restituisce una copia.\n",
    "Questa operazione si chiama di \"slicing\""
   ]
  },
  {
   "cell_type": "code",
   "execution_count": 26,
   "metadata": {},
   "outputs": [
    {
     "name": "stdout",
     "output_type": "stream",
     "text": [
      "ao,\n"
     ]
    }
   ],
   "source": [
    "frase = \"Ciao, Mondo!\"\n",
    "parte = frase[2:5]\n",
    "print(parte)"
   ]
  },
  {
   "cell_type": "markdown",
   "metadata": {},
   "source": [
    "Lo slicing riceve due indici (2 e 5 nell'esempio sopra). Il primo indice è la posizione nella stringa del primo carattere da considerare (l'indice parte da 0, quindi il primo carattere è in posizione 0). Il secondo indice è la posizione dell'ultimo carattere, che però non viene incluso nel risultato. \n",
    "\n",
    "Uno degli indici si può omettere. Se il primo è omesso, allora si assume si parte dal primo carattere. Se il secondo è omesso, si assume la stringa verra estratta fino all'ultimo carattere."
   ]
  },
  {
   "cell_type": "code",
   "execution_count": 27,
   "metadata": {},
   "outputs": [
    {
     "name": "stdout",
     "output_type": "stream",
     "text": [
      "Ciao\n",
      "Mondo!\n"
     ]
    }
   ],
   "source": [
    "frase = \"Ciao, Mondo!\"\n",
    "parte_1 = frase[:4]\n",
    "parte_2 = frase[6:]\n",
    "print(parte_1)\n",
    "print(parte_2)"
   ]
  },
  {
   "cell_type": "markdown",
   "metadata": {},
   "source": [
    "Utilizzando un solo indice, senza i due punti, si estrae un singolo carattere. Cioè, stringa[5:5] e stringa[5] sono equivalenti.\n",
    "\n",
    "È possibile accedere all'ultimo elemento di una stringa, usando indici negativi, che quindi si muovono \"verso sinistra\", a partire dal primo carattere.\n"
   ]
  },
  {
   "cell_type": "code",
   "execution_count": 28,
   "metadata": {},
   "outputs": [
    {
     "name": "stdout",
     "output_type": "stream",
     "text": [
      "!\n"
     ]
    }
   ],
   "source": [
    "stringa = \"Ciao, Mondo!\"\n",
    "print(stringa[-1])"
   ]
  },
  {
   "cell_type": "markdown",
   "metadata": {},
   "source": [
    "### Lunghezza di una stringa\n",
    "L'operatore len() restituisce un intero che indica quanti caratteri contiene la stringa\n"
   ]
  },
  {
   "cell_type": "code",
   "execution_count": 31,
   "metadata": {},
   "outputs": [
    {
     "name": "stdout",
     "output_type": "stream",
     "text": [
      "12\n"
     ]
    }
   ],
   "source": [
    "stringa  = \"Ciao, Mondo!\"\n",
    "lunghezza = len(stringa)\n",
    "print(lunghezza)"
   ]
  },
  {
   "cell_type": "markdown",
   "metadata": {},
   "source": [
    "### Altre operazioni sulle stringhe"
   ]
  },
  {
   "cell_type": "code",
   "execution_count": 34,
   "metadata": {},
   "outputs": [
    {
     "name": "stdout",
     "output_type": "stream",
     "text": [
      "    FRASE DI ESEMPIO   \n",
      "    frase di esempio   \n",
      "    frase di esempio   \n",
      "frase di esempio\n",
      "    frase di prova   \n",
      "13\n"
     ]
    }
   ],
   "source": [
    "stringa = \"    frase di esempio   \"\n",
    "\n",
    "# restituisce una copia della stringa (l'originale non viene modificata),\n",
    "# dove tutte le lettere sono convertite in maiuscolo\n",
    "stringa_maiuscolo = stringa.upper() \n",
    "\n",
    "print(stringa_maiuscolo)\n",
    "\n",
    "# restituisce una copia della stringa (l'originale non viene modificata),\n",
    "# dove tutte le lettere sono convertite in minuscolo\n",
    "stringa_minuscolo = stringa.lower() \n",
    "\n",
    "print(stringa_minuscolo)\n",
    "\n",
    "# restituisce una copia della stringa (l'originale non viene modificata),\n",
    "# dove la prima lettera sarà in maiuscolo, e tutte le altre in minuscolo\n",
    "stringa_prima_lettera_maiuscolo = stringa.capitalize()\n",
    "\n",
    "print(stringa_prima_lettera_maiuscolo)\n",
    "\n",
    "# restituisce una copia della stringa (l'originale non viene modificata),\n",
    "# dove tutti gli spazi a sinistra e a destra della stringa sono rimossi (utile per pulire le stringhe)\n",
    "stringa_senza_spazi_laterali = stringa.strip()\n",
    "\n",
    "print(stringa_senza_spazi_laterali)\n",
    "\n",
    "# restituisce una copia della stringa (l'originale non viene modificata),\n",
    "# dove tutte le occorrenze della stringa \"esempio\" vengono sostituite dalla stringa \"prova\"\n",
    "stringa_modificata = stringa.replace(\"esempio\",\"prova\")\n",
    "\n",
    "print(stringa_modificata)\n",
    "\n",
    "# restituisce un intero che indica prima posizione nella stringa in cui appare \"esempio\". La posizione è sempre indicizzata con 0.\n",
    "# Se la stringa non è presente, viene restituito un numero negativo.\n",
    "posizione = stringa.find(\"esempio\")\n",
    "\n",
    "print(posizione)"
   ]
  },
  {
   "cell_type": "markdown",
   "metadata": {},
   "source": [
    "# Esercizi\n",
    "\n",
    "Prima degli esercizi, introduciamo un ultimo concetto. Un programma Python non è molto utile, se non è in grado di richiedere all'utente i dati su cui deve lavorare. Perhcé dichiarare tutte le variabili con valori predeterminati renderebbe il programma poco pratico da usare perché siamo costretti a cambiare il contenuto delle variabili direttamente nel sorgente del programma, per cambiare i dati su cui dovrà fare i calcoli.\n",
    "\n",
    "In Python è possibile chiedere all'utente che si interfaccia al nostro programma tramite il terminale, di inserire dei valori, che possiamo poi assegnare a delle variabili del nostro programma. Per farlo si utilizza la funzione input()\n"
   ]
  },
  {
   "cell_type": "code",
   "execution_count": 37,
   "metadata": {},
   "outputs": [
    {
     "name": "stdout",
     "output_type": "stream",
     "text": [
      "10\n",
      "Inserire il valore desiderato: \n",
      "ciao\n"
     ]
    }
   ],
   "source": [
    "# quando viene eseguita l'istruzione in basso, il terminale mostrerà un cursore lampeggiante, in attesa che l'utente scriva il valore.\n",
    "# Una volta dato Invio, il valore inserito verrà inserito nella variabile indicata, e l'esecuzione continuerà normalmente\n",
    "\n",
    "valore_dato_da_utente = input()\n",
    "print(valore_dato_da_utente)\n",
    "\n",
    "# potremmo essere un po' più user friendly\n",
    "print(\"Inserire il valore desiderato: \")\n",
    "valore_dato_da_utente = input()\n",
    "\n",
    "print(valore_dato_da_utente)\n",
    "\n",
    "# visto che è tipico anteporre un print ad un input, la funzione input può ricevere, opzionalmente una stringa, che verrà stampata\n",
    "# prima di leggere il valore dall'utente\n",
    "\n",
    "valore_dato_da_utente = input(\"Inserire il valore desiderato:\")"
   ]
  },
  {
   "cell_type": "markdown",
   "metadata": {},
   "source": [
    "La funzione input(), restituirà sempre un valore di tipo string, a presciendere da cosa ha scritto l'utente. Quindi, se l'utente scrive 10, verrà restituita la *stringa* \"10\", con la quale l'operatore +, ad esempio, non darà la somma aritmetica del suo valore.\n",
    "\n",
    "Se vogliamo trattare i dati letti da input come numerici, dobbiamo prima convertirli.\n",
    "Python mette a disposizione diversi operatori per convertire una stringa che rappresenta un numero, in tipo numerico.\n"
   ]
  },
  {
   "cell_type": "code",
   "execution_count": 39,
   "metadata": {},
   "outputs": [
    {
     "name": "stdout",
     "output_type": "stream",
     "text": [
      "10\n",
      "10.4\n"
     ]
    }
   ],
   "source": [
    "valore_intero_come_stringa = \"10\"\n",
    "\n",
    "valore_intero = int(valore_intero_come_stringa)\n",
    "print(valore_intero)\n",
    "\n",
    "valore_float_come_stringa = \"10.4\"\n",
    "\n",
    "valore_float = float(valore_float_come_stringa)\n",
    "print(valore_float)"
   ]
  },
  {
   "cell_type": "markdown",
   "metadata": {},
   "source": [
    "## Esercizio 1\n",
    "Leggere da input due interi, rappresentanti i due lati di un rettangolo. Calcolare l'area del rettangolo, e stamparla a schermo"
   ]
  },
  {
   "cell_type": "code",
   "execution_count": 1,
   "metadata": {},
   "outputs": [
    {
     "name": "stdout",
     "output_type": "stream",
     "text": [
      "l'area è 920\n"
     ]
    }
   ],
   "source": [
    "# svolgimento\n",
    "primo_lato = int(input(\"Inserire primo lato:\"))\n",
    "secondo_lato = int(input(\"inserire secondo lato:\"))\n",
    "\n",
    "area = primo_lato * secondo_lato\n",
    "\n",
    "print(\"l'area è\",area)"
   ]
  },
  {
   "cell_type": "markdown",
   "metadata": {},
   "source": [
    "## Esercizio 2\n",
    "Leggere da input una stringa, e stampare la stringa ottenuta sostituendo tutte le occorrenze della virgola con il punto e virgola"
   ]
  },
  {
   "cell_type": "code",
   "execution_count": 2,
   "metadata": {},
   "outputs": [
    {
     "name": "stdout",
     "output_type": "stream",
     "text": [
      "ciao; no ;\n"
     ]
    }
   ],
   "source": [
    "# svolgimento\n",
    "stringa = input(\"Inserire la stringa:\")\n",
    "\n",
    "print(stringa.replace(\",\",\";\"))\n"
   ]
  },
  {
   "cell_type": "markdown",
   "metadata": {},
   "source": [
    "## Esercizio 3\n",
    "Leggere da input una stringa, e restituisce la prima metà della stringa (se la stringa ha lunghezza dispari, restituire solo un numero di caratteri pari alla parte interà di metà della lunghezza)"
   ]
  },
  {
   "cell_type": "code",
   "execution_count": 3,
   "metadata": {},
   "outputs": [
    {
     "name": "stdout",
     "output_type": "stream",
     "text": [
      "Pyt\n"
     ]
    }
   ],
   "source": [
    "# svolgimento\n",
    "stringa = input(\"Inserire la stringa\")\n",
    "lunghezza = len(stringa)\n",
    "prima_parte = stringa[:lunghezza//2]\n",
    "\n",
    "print(prima_parte)"
   ]
  }
 ],
 "metadata": {
  "kernelspec": {
   "display_name": ".venv",
   "language": "python",
   "name": "python3"
  },
  "language_info": {
   "codemirror_mode": {
    "name": "ipython",
    "version": 3
   },
   "file_extension": ".py",
   "mimetype": "text/x-python",
   "name": "python",
   "nbconvert_exporter": "python",
   "pygments_lexer": "ipython3",
   "version": "3.11.8"
  }
 },
 "nbformat": 4,
 "nbformat_minor": 2
}
