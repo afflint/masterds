{
 "cells": [
  {
   "cell_type": "code",
   "execution_count": 1,
   "metadata": {},
   "outputs": [],
   "source": [
    "import numpy as np "
   ]
  },
  {
   "cell_type": "code",
   "execution_count": 2,
   "metadata": {},
   "outputs": [
    {
     "data": {
      "text/plain": [
       "[2, 4, 5, 6, 4, 5, 6, 6]"
      ]
     },
     "execution_count": 2,
     "metadata": {},
     "output_type": "execute_result"
    }
   ],
   "source": [
    "a = [2, 4, 5, 6]\n",
    "b = [4, 5, 6, 6]\n",
    "a + b "
   ]
  },
  {
   "cell_type": "code",
   "execution_count": 15,
   "metadata": {},
   "outputs": [],
   "source": [
    "d = dict([((\"A{}\".format(x), x**2), x) for x in range(10)])"
   ]
  },
  {
   "cell_type": "code",
   "execution_count": 16,
   "metadata": {},
   "outputs": [
    {
     "data": {
      "text/plain": [
       "{('A0', 0): 0,\n",
       " ('A1', 1): 1,\n",
       " ('A2', 4): 2,\n",
       " ('A3', 9): 3,\n",
       " ('A4', 16): 4,\n",
       " ('A5', 25): 5,\n",
       " ('A6', 36): 6,\n",
       " ('A7', 49): 7,\n",
       " ('A8', 64): 8,\n",
       " ('A9', 81): 9}"
      ]
     },
     "execution_count": 16,
     "metadata": {},
     "output_type": "execute_result"
    }
   ],
   "source": [
    "d "
   ]
  },
  {
   "cell_type": "code",
   "execution_count": 18,
   "metadata": {},
   "outputs": [
    {
     "name": "stdout",
     "output_type": "stream",
     "text": [
      "A0 0 0\n",
      "A1 1 1\n",
      "A2 4 2\n",
      "A3 9 3\n",
      "A4 16 4\n",
      "A5 25 5\n",
      "A6 36 6\n",
      "A7 49 7\n",
      "A8 64 8\n",
      "A9 81 9\n"
     ]
    }
   ],
   "source": [
    "for (x, y), v in d.items():\n",
    "    print(x, y, v)"
   ]
  },
  {
   "cell_type": "code",
   "execution_count": 11,
   "metadata": {},
   "outputs": [],
   "source": [
    "(z, k) = 10, 8"
   ]
  },
  {
   "cell_type": "code",
   "execution_count": 21,
   "metadata": {},
   "outputs": [],
   "source": [
    "class A:\n",
    "    def __init__(self, *args, **kwargs):\n",
    "        self.name = 'Mario'"
   ]
  },
  {
   "cell_type": "code",
   "execution_count": 22,
   "metadata": {},
   "outputs": [],
   "source": [
    "p = A()"
   ]
  },
  {
   "cell_type": "code",
   "execution_count": 2,
   "metadata": {},
   "outputs": [],
   "source": [
    "import numpy as np "
   ]
  },
  {
   "cell_type": "code",
   "execution_count": 3,
   "metadata": {},
   "outputs": [],
   "source": [
    "state = np.random.random(size=(4,))"
   ]
  },
  {
   "cell_type": "code",
   "execution_count": 4,
   "metadata": {},
   "outputs": [
    {
     "data": {
      "text/plain": [
       "array([0.8346806 , 0.77544764, 0.80277617, 0.18273868])"
      ]
     },
     "execution_count": 4,
     "metadata": {},
     "output_type": "execute_result"
    }
   ],
   "source": [
    "state "
   ]
  },
  {
   "cell_type": "code",
   "execution_count": 27,
   "metadata": {},
   "outputs": [],
   "source": [
    "m = np.random.random(size=(4, 6))"
   ]
  },
  {
   "cell_type": "code",
   "execution_count": 38,
   "metadata": {},
   "outputs": [
    {
     "data": {
      "text/plain": [
       "array([[0.38912479, 0.9764597 , 0.29581343, 0.85146041, 0.13694731,\n",
       "        0.96085256],\n",
       "       [0.69568566, 0.91562706, 0.02687847, 0.33023799, 0.2004795 ,\n",
       "        0.75325578],\n",
       "       [0.24094734, 0.70004353, 0.27032337, 0.65821102, 0.27778569,\n",
       "        0.74040128],\n",
       "       [0.30047642, 0.59897954, 0.67453881, 0.29526248, 0.44182788,\n",
       "        0.26548485]])"
      ]
     },
     "execution_count": 38,
     "metadata": {},
     "output_type": "execute_result"
    }
   ],
   "source": [
    "m + np.random.normal(loc=0, scale=.01, size=m.shape)"
   ]
  },
  {
   "cell_type": "code",
   "execution_count": 31,
   "metadata": {},
   "outputs": [
    {
     "data": {
      "text/plain": [
       "array([0.11046846, 0.31411317, 0.06691287, 0.17076142, 0.06306859,\n",
       "       0.27467548])"
      ]
     },
     "execution_count": 31,
     "metadata": {},
     "output_type": "execute_result"
    }
   ],
   "source": [
    "softmax(m.T.dot(state))"
   ]
  },
  {
   "cell_type": "code",
   "execution_count": 5,
   "metadata": {},
   "outputs": [],
   "source": [
    "actions = np.random.random(size=(6,))"
   ]
  },
  {
   "cell_type": "code",
   "execution_count": 23,
   "metadata": {},
   "outputs": [
    {
     "name": "stdout",
     "output_type": "stream",
     "text": [
      "[0.7452081  0.91538262 0.16953023 0.56825984 0.41603618 0.40110868]\n",
      "[0.19944013 0.23643861 0.11214988 0.16709555 0.14350102 0.14137482]\n"
     ]
    },
    {
     "data": {
      "text/plain": [
       "3"
      ]
     },
     "execution_count": 23,
     "metadata": {},
     "output_type": "execute_result"
    }
   ],
   "source": [
    "\n",
    "print(actions)\n",
    "# softmax\n",
    "softmax = lambda x: np.exp(x) / sum(np.exp(x))\n",
    "\n",
    "\n",
    "print(np.exp(actions) / sum(np.exp(actions)))\n",
    "p = actions / np.sum(actions)\n",
    "np.random.choice(range(len(actions)), p=p)"
   ]
  },
  {
   "cell_type": "code",
   "execution_count": 25,
   "metadata": {},
   "outputs": [
    {
     "name": "stdout",
     "output_type": "stream",
     "text": [
      "1\n",
      "[0.35137169 0.38832577 0.26030255]\n",
      "1\n",
      "[0.2491434 0.5017132 0.2491434]\n"
     ]
    }
   ],
   "source": [
    "print(np.argmax([.4, .5, .1]))\n",
    "print(softmax([.4, .5, .1]))\n",
    "\n",
    "print(np.argmax([.1, .8, .1]))\n",
    "print(softmax([.1, .8, .1]))\n"
   ]
  },
  {
   "cell_type": "code",
   "execution_count": null,
   "metadata": {},
   "outputs": [],
   "source": []
  }
 ],
 "metadata": {
  "kernelspec": {
   "display_name": "rl",
   "language": "python",
   "name": "python3"
  },
  "language_info": {
   "codemirror_mode": {
    "name": "ipython",
    "version": 3
   },
   "file_extension": ".py",
   "mimetype": "text/x-python",
   "name": "python",
   "nbconvert_exporter": "python",
   "pygments_lexer": "ipython3",
   "version": "3.9.17"
  }
 },
 "nbformat": 4,
 "nbformat_minor": 2
}
